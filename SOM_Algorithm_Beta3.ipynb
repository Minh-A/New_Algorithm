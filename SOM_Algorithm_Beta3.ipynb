{
  "nbformat": 4,
  "nbformat_minor": 0,
  "metadata": {
    "colab": {
      "name": "SOM_Algorithm_github.ipynb",
      "provenance": [],
      "collapsed_sections": [],
      "authorship_tag": "ABX9TyOd6XHZOG71btWAY7BgzfTt",
      "include_colab_link": true
    },
    "kernelspec": {
      "name": "python3",
      "display_name": "Python 3"
    }
  },
  "cells": [
    {
      "cell_type": "markdown",
      "metadata": {
        "id": "view-in-github",
        "colab_type": "text"
      },
      "source": [
        "<a href=\"https://colab.research.google.com/github/Minh-A/New_Algorithm/blob/main/SOM_Algorithm_Beta3.ipynb\" target=\"_parent\"><img src=\"https://colab.research.google.com/assets/colab-badge.svg\" alt=\"Open In Colab\"/></a>"
      ]
    },
    {
      "cell_type": "markdown",
      "metadata": {
        "id": "NPgeh4B__hHk"
      },
      "source": [
        "# SOM_Algorithm\r\n",
        "* https://dryjelly.tistory.com/69"
      ]
    },
    {
      "cell_type": "code",
      "metadata": {
        "id": "FN4ju0qD-9om"
      },
      "source": [
        "import numpy\r\n",
        "import scipy.special  # 과학기술 계산 라이브러리\r\n",
        "import matplotlib.pyplot\r\n",
        "%matplotlib inline"
      ],
      "execution_count": null,
      "outputs": []
    },
    {
      "cell_type": "code",
      "metadata": {
        "colab": {
          "base_uri": "https://localhost:8080/"
        },
        "id": "zTcmbGUY_TeB",
        "outputId": "16c5ecfb-6e5a-41dc-902a-52b2aaec7a94"
      },
      "source": [
        "pow(2, -0.5)"
      ],
      "execution_count": null,
      "outputs": [
        {
          "output_type": "execute_result",
          "data": {
            "text/plain": [
              "0.7071067811865476"
            ]
          },
          "metadata": {
            "tags": []
          },
          "execution_count": 39
        }
      ]
    },
    {
      "cell_type": "code",
      "metadata": {
        "colab": {
          "base_uri": "https://localhost:8080/"
        },
        "id": "KkeZbJ-5-8cQ",
        "outputId": "2b2c48f3-e62a-4d50-d544-b834fc0508aa"
      },
      "source": [
        "numpy.random.normal(0.0, 10.0, (5,3))"
      ],
      "execution_count": null,
      "outputs": [
        {
          "output_type": "execute_result",
          "data": {
            "text/plain": [
              "array([[ -1.5141199 ,  20.23473852,   4.33138858],\n",
              "       [ -5.00945921,   6.15480433,   7.18210458],\n",
              "       [  3.57939687,   2.60224985,  -9.92348925],\n",
              "       [-11.73637117,  -8.30249873,   4.96612643],\n",
              "       [  2.58606257, -12.16945372, -18.51348104]])"
            ]
          },
          "metadata": {
            "tags": []
          },
          "execution_count": 5
        }
      ]
    },
    {
      "cell_type": "code",
      "metadata": {
        "id": "nERehCBzHRdS"
      },
      "source": [
        "a = numpy.random.normal(0.0, 1, (5,7))\r\n",
        "b = numpy.random.normal(0.0, 1, (7,3))"
      ],
      "execution_count": null,
      "outputs": []
    },
    {
      "cell_type": "code",
      "metadata": {
        "colab": {
          "base_uri": "https://localhost:8080/"
        },
        "id": "B2l1xtZnfj_L",
        "outputId": "150fdf6e-b8d0-407f-bd2f-80d0aabd57d0"
      },
      "source": [
        "# 인풋 - 메인 데이터\r\n",
        "a1 = numpy.array(a, ndmin=2).T\r\n",
        "a1"
      ],
      "execution_count": null,
      "outputs": [
        {
          "output_type": "execute_result",
          "data": {
            "text/plain": [
              "array([[ 1.16502789,  0.59840992,  1.07668328, -0.34080241,  0.76187269],\n",
              "       [ 0.17856936,  0.73188795,  0.89282009,  0.74028401,  0.64431134],\n",
              "       [ 0.10633173, -0.20910395, -1.46434783, -0.11751565,  0.35506919],\n",
              "       [-0.26017812, -1.82225194,  0.37209483, -0.21709009, -0.19880067],\n",
              "       [-0.8844693 , -0.17747082, -0.6415043 , -0.41996264,  0.32738046],\n",
              "       [-0.8517749 ,  0.42475697, -1.15457105,  0.40600643,  0.41970266],\n",
              "       [ 0.81558958,  0.27257521, -1.36873697,  0.95318652,  1.79199938]])"
            ]
          },
          "metadata": {
            "tags": []
          },
          "execution_count": 86
        }
      ]
    },
    {
      "cell_type": "code",
      "metadata": {
        "colab": {
          "base_uri": "https://localhost:8080/"
        },
        "id": "yHpd79EZfj8F",
        "outputId": "0d54d15d-89d5-4c77-fc53-79c54baaed0e"
      },
      "source": [
        "# 가중치\r\n",
        "b "
      ],
      "execution_count": null,
      "outputs": [
        {
          "output_type": "execute_result",
          "data": {
            "text/plain": [
              "array([[-1.00650468,  0.39997112, -0.354934  ],\n",
              "       [-1.70297626, -0.40196958, -0.30304011],\n",
              "       [ 0.10479262, -0.60664673,  0.15496684],\n",
              "       [ 0.26035223, -1.41698153,  0.11468826],\n",
              "       [-3.53432176,  0.47204488, -0.35969093],\n",
              "       [ 1.05620641,  1.60945556, -0.1098982 ],\n",
              "       [ 0.25053944,  0.3544352 , -1.36697335]])"
            ]
          },
          "metadata": {
            "tags": []
          },
          "execution_count": 87
        }
      ]
    },
    {
      "cell_type": "code",
      "metadata": {
        "colab": {
          "base_uri": "https://localhost:8080/"
        },
        "id": "_XvdNvftfTuv",
        "outputId": "0ad1b79b-6d32-4db8-a267-d96123d923e6"
      },
      "source": [
        "numpy.dot(a,b)"
      ],
      "execution_count": null,
      "outputs": [
        {
          "output_type": "execute_result",
          "data": {
            "text/plain": [
              "array([[ 0.89738576, -0.80096955, -1.18412828],\n",
              "       [-1.20086926,  3.35056308, -1.03103095],\n",
              "       [-1.95582063, -2.21333214,  1.39169328],\n",
              "       [ 1.16541897,  0.7380713 , -1.34302529],\n",
              "       [-2.14343361,  1.57720754, -3.0469386 ]])"
            ]
          },
          "metadata": {
            "tags": []
          },
          "execution_count": 89
        }
      ]
    },
    {
      "cell_type": "code",
      "metadata": {
        "colab": {
          "base_uri": "https://localhost:8080/"
        },
        "id": "bm0BMVotL9gm",
        "outputId": "9f278ea3-15a2-491c-daab-1c1d07f5f7c7"
      },
      "source": [
        "numpy.array(a, ndmin=2).T"
      ],
      "execution_count": null,
      "outputs": [
        {
          "output_type": "execute_result",
          "data": {
            "text/plain": [
              "array([[ 0.83596732, -1.24036641,  0.92021234],\n",
              "       [ 1.28779978,  1.60475258,  0.59477777]])"
            ]
          },
          "metadata": {
            "tags": []
          },
          "execution_count": 47
        }
      ]
    },
    {
      "cell_type": "code",
      "metadata": {
        "colab": {
          "base_uri": "https://localhost:8080/"
        },
        "id": "aHZgfIgBwfPa",
        "outputId": "1f0e22fb-968f-42b9-afca-0e48c4eb9aa3"
      },
      "source": [
        "a"
      ],
      "execution_count": null,
      "outputs": [
        {
          "output_type": "execute_result",
          "data": {
            "text/plain": [
              "array([[ 1.16502789,  0.17856936,  0.10633173, -0.26017812, -0.8844693 ,\n",
              "        -0.8517749 ,  0.81558958],\n",
              "       [ 0.59840992,  0.73188795, -0.20910395, -1.82225194, -0.17747082,\n",
              "         0.42475697,  0.27257521],\n",
              "       [ 1.07668328,  0.89282009, -1.46434783,  0.37209483, -0.6415043 ,\n",
              "        -1.15457105, -1.36873697],\n",
              "       [-0.34080241,  0.74028401, -0.11751565, -0.21709009, -0.41996264,\n",
              "         0.40600643,  0.95318652],\n",
              "       [ 0.76187269,  0.64431134,  0.35506919, -0.19880067,  0.32738046,\n",
              "         0.41970266,  1.79199938]])"
            ]
          },
          "metadata": {
            "tags": []
          },
          "execution_count": 93
        }
      ]
    },
    {
      "cell_type": "code",
      "metadata": {
        "colab": {
          "base_uri": "https://localhost:8080/"
        },
        "id": "dE5MBlJce7ST",
        "outputId": "b15ba195-e13f-45e2-9826-03fa840805dd"
      },
      "source": [
        "numpy.transpose(a)"
      ],
      "execution_count": null,
      "outputs": [
        {
          "output_type": "execute_result",
          "data": {
            "text/plain": [
              "array([[ 1.16502789,  0.59840992,  1.07668328, -0.34080241,  0.76187269],\n",
              "       [ 0.17856936,  0.73188795,  0.89282009,  0.74028401,  0.64431134],\n",
              "       [ 0.10633173, -0.20910395, -1.46434783, -0.11751565,  0.35506919],\n",
              "       [-0.26017812, -1.82225194,  0.37209483, -0.21709009, -0.19880067],\n",
              "       [-0.8844693 , -0.17747082, -0.6415043 , -0.41996264,  0.32738046],\n",
              "       [-0.8517749 ,  0.42475697, -1.15457105,  0.40600643,  0.41970266],\n",
              "       [ 0.81558958,  0.27257521, -1.36873697,  0.95318652,  1.79199938]])"
            ]
          },
          "metadata": {
            "tags": []
          },
          "execution_count": 90
        }
      ]
    },
    {
      "cell_type": "markdown",
      "metadata": {
        "id": "S5PcGJhfw7Gp"
      },
      "source": [
        "# 히든 노드의 정렬"
      ]
    },
    {
      "cell_type": "code",
      "metadata": {
        "id": "iaxZqbzExKGJ"
      },
      "source": [
        "# 10개의 데이터와 5개의 속성\r\n",
        "input = numpy.random.normal(3.0, 5.0, (10,5))"
      ],
      "execution_count": null,
      "outputs": []
    },
    {
      "cell_type": "code",
      "metadata": {
        "id": "MWLuktk4wmgm"
      },
      "source": [
        "# 데이터의 행의 숫자와 열의 숫자가 같아야 행렬 곱셈이 이루어짐\r\n",
        "a = numpy.random.normal(0.0, 1.0, (10,10))\r\n",
        "b = numpy.random.normal(0.0, 1.0, (10,10))\r\n",
        "c = numpy.random.normal(0.0, 1.0, (10,10))"
      ],
      "execution_count": null,
      "outputs": []
    },
    {
      "cell_type": "code",
      "metadata": {
        "colab": {
          "base_uri": "https://localhost:8080/"
        },
        "id": "i09WD76gxHP7",
        "outputId": "99a412c3-5577-4eee-f1e8-f55d950ef1d4"
      },
      "source": [
        "numpy.dot(a,input)"
      ],
      "execution_count": null,
      "outputs": [
        {
          "output_type": "execute_result",
          "data": {
            "text/plain": [
              "array([[  2.90318259,   4.70394806,   4.67541153,  -1.88315165,\n",
              "         11.3609838 ],\n",
              "       [  1.63253788,  -3.84848573,  -8.21101998, -13.00249296,\n",
              "          5.05383832],\n",
              "       [ -8.7061166 ,   3.26908695, -12.24355953, -10.76812544,\n",
              "        -12.02028813]])"
            ]
          },
          "metadata": {
            "tags": []
          },
          "execution_count": 99
        }
      ]
    },
    {
      "cell_type": "code",
      "metadata": {
        "colab": {
          "base_uri": "https://localhost:8080/"
        },
        "id": "dJ8vxQG3xgqO",
        "outputId": "afa00475-04ee-489d-f585-294a78a1ea11"
      },
      "source": [
        "numpy.max(a)"
      ],
      "execution_count": null,
      "outputs": [
        {
          "output_type": "execute_result",
          "data": {
            "text/plain": [
              "0.7538513570337769"
            ]
          },
          "metadata": {
            "tags": []
          },
          "execution_count": 100
        }
      ]
    },
    {
      "cell_type": "code",
      "metadata": {
        "colab": {
          "base_uri": "https://localhost:8080/"
        },
        "id": "Ig0Xqk2ExAu5",
        "outputId": "b05058d3-ea56-4573-b5f5-87642054ecc7"
      },
      "source": [
        "a"
      ],
      "execution_count": null,
      "outputs": [
        {
          "output_type": "execute_result",
          "data": {
            "text/plain": [
              "array([[ 0.75385136,  0.50574845, -1.0694053 ],\n",
              "       [-1.4693521 , -0.36025953, -1.36918589],\n",
              "       [-0.21625961, -1.66135918, -0.29069092]])"
            ]
          },
          "metadata": {
            "tags": []
          },
          "execution_count": 101
        }
      ]
    },
    {
      "cell_type": "code",
      "metadata": {
        "colab": {
          "base_uri": "https://localhost:8080/"
        },
        "id": "N6cY_b63yAT5",
        "outputId": "ef91ec1a-148f-4344-a296-25691d3d7f6a"
      },
      "source": [
        "numpy.min(a)"
      ],
      "execution_count": null,
      "outputs": [
        {
          "output_type": "execute_result",
          "data": {
            "text/plain": [
              "-1.6613591764173676"
            ]
          },
          "metadata": {
            "tags": []
          },
          "execution_count": 107
        }
      ]
    },
    {
      "cell_type": "code",
      "metadata": {
        "colab": {
          "base_uri": "https://localhost:8080/"
        },
        "id": "TAzJjylxwmZ3",
        "outputId": "edcbfb16-4330-41f5-a920-8efb85344eeb"
      },
      "source": [
        "numpy.argmin(a)"
      ],
      "execution_count": null,
      "outputs": [
        {
          "output_type": "execute_result",
          "data": {
            "text/plain": [
              "7"
            ]
          },
          "metadata": {
            "tags": []
          },
          "execution_count": 106
        }
      ]
    },
    {
      "cell_type": "code",
      "metadata": {
        "id": "O_gTrDm0yG2I"
      },
      "source": [
        "import numpy as np\r\n",
        "node1 = np.dot(a,input)\r\n",
        "node2 = np.dot(b, node1)\r\n",
        "node3 = np.dot(c, node2)"
      ],
      "execution_count": null,
      "outputs": []
    },
    {
      "cell_type": "code",
      "metadata": {
        "colab": {
          "base_uri": "https://localhost:8080/"
        },
        "id": "pKvZOmLVyZmI",
        "outputId": "f583d1d3-144f-4b78-b9d7-e5d02fd92d18"
      },
      "source": [
        "node3.shape"
      ],
      "execution_count": null,
      "outputs": [
        {
          "output_type": "execute_result",
          "data": {
            "text/plain": [
              "(10, 5)"
            ]
          },
          "metadata": {
            "tags": []
          },
          "execution_count": 121
        }
      ]
    },
    {
      "cell_type": "code",
      "metadata": {
        "colab": {
          "base_uri": "https://localhost:8080/"
        },
        "id": "Tg5wMFJNyGu5",
        "outputId": "2255b502-a76d-4064-f211-08a1f976bbc7"
      },
      "source": [
        "node3"
      ],
      "execution_count": null,
      "outputs": [
        {
          "output_type": "execute_result",
          "data": {
            "text/plain": [
              "array([[ 148.11732276, -253.6439071 ,  117.89785172, -182.11769318,\n",
              "        -410.77441443],\n",
              "       [ -64.86163931,  -23.53491172,   44.52236072,   34.11911714,\n",
              "        -178.27862573],\n",
              "       [ 123.23388065,   21.42981075,   21.65345503,  109.75414445,\n",
              "          38.43389388],\n",
              "       [ -24.54179093,  -70.0030453 , -321.10996399,  -19.36620827,\n",
              "          49.68315617],\n",
              "       [-187.31769836, -145.60155543, -550.71593649,  -97.52039544,\n",
              "         201.4357727 ],\n",
              "       [ -19.74646174,  -85.08727883,  148.22509652,  -93.4794871 ,\n",
              "        -236.91733869],\n",
              "       [-233.33762969,  -44.51552469, -290.99709691, -130.15683842,\n",
              "          74.31897544],\n",
              "       [ -58.83428817, -104.8266641 , -243.86468042,    2.93936233,\n",
              "        -165.20974803],\n",
              "       [ 135.98321944, -364.07575846,  197.17185904, -125.04123328,\n",
              "        -659.91958685],\n",
              "       [-116.86893832, -195.16040488, -186.93193052, -124.06525571,\n",
              "        -266.99890133]])"
            ]
          },
          "metadata": {
            "tags": []
          },
          "execution_count": 122
        }
      ]
    },
    {
      "cell_type": "markdown",
      "metadata": {
        "id": "HMRK2K0o0DjJ"
      },
      "source": [
        "> 넘파이 다차원을 1차원으로\r\n",
        "* https://rfriend.tistory.com/349\r\n",
        "\r\n",
        "> Numpy 랜덤 함수\r\n",
        "* https://codetorial.net/numpy/random.html"
      ]
    },
    {
      "cell_type": "code",
      "metadata": {
        "colab": {
          "base_uri": "https://localhost:8080/",
          "height": 265
        },
        "id": "oE3yk4SU0cz3",
        "outputId": "67e96c88-59d0-4025-8315-11fe04d11e92"
      },
      "source": [
        "import matplotlib.pyplot\r\n",
        "matplotlib.pyplot.imshow(node3, cmap='Greys', interpolation = 'None')\r\n",
        "matplotlib.pyplot.show()"
      ],
      "execution_count": null,
      "outputs": [
        {
          "output_type": "display_data",
          "data": {
            "image/png": "[encoded data removed]",
            "text/plain": [
              "<Figure size 432x288 with 1 Axes>"
            ]
          },
          "metadata": {
            "tags": [],
            "needs_background": "light"
          }
        }
      ]
    },
    {
      "cell_type": "code",
      "metadata": {
        "colab": {
          "base_uri": "https://localhost:8080/"
        },
        "id": "tImawRAILlSj",
        "outputId": "e8bc2064-561a-417d-d2da-265266244691"
      },
      "source": [
        "numpy.random.normal(1,0.5,(3,4))"
      ],
      "execution_count": null,
      "outputs": [
        {
          "output_type": "execute_result",
          "data": {
            "text/plain": [
              "array([[1.34893316, 0.88662942, 0.49024888, 0.86580502],\n",
              "       [1.12625885, 1.56889428, 0.22235336, 1.34163862],\n",
              "       [0.70967758, 0.4417164 , 0.92986129, 1.52712217]])"
            ]
          },
          "metadata": {
            "tags": []
          },
          "execution_count": 137
        }
      ]
    },
    {
      "cell_type": "code",
      "metadata": {
        "colab": {
          "base_uri": "https://localhost:8080/"
        },
        "id": "8j4k8ogkK5Rv",
        "outputId": "1b11155d-c169-4aed-d4c4-561b29aa9387"
      },
      "source": [
        "# 0과 1 사이의 랜덤수를 생성\r\n",
        "np.random.random_sample((3,5))"
      ],
      "execution_count": null,
      "outputs": [
        {
          "output_type": "execute_result",
          "data": {
            "text/plain": [
              "array([[0.12425715, 0.52057922, 0.56861972, 0.61885505, 0.1928625 ],\n",
              "       [0.2550657 , 0.66525464, 0.55672507, 0.01948603, 0.51024088],\n",
              "       [0.63730024, 0.37191668, 0.94955636, 0.12856754, 0.11566241]])"
            ]
          },
          "metadata": {
            "tags": []
          },
          "execution_count": 134
        }
      ]
    },
    {
      "cell_type": "markdown",
      "metadata": {
        "id": "jIibOP2pMuoi"
      },
      "source": [
        "> 알고리즘의 형태\r\n",
        "* 한 행이 하나의 데이터\r\n",
        "* 열은 그 데이터에 대한 속성\r\n",
        "* 속성으로 위치를 어떻게 나누지\r\n",
        "\r\n",
        "> 비지도 학습\r\n",
        "* 비지도 학습이므로\r\n",
        "* 흠흠 그냥 임마가 위치를 찾을 수 있도록\r\n",
        "* 하나하나의 값마다?"
      ]
    },
    {
      "cell_type": "code",
      "metadata": {
        "id": "5IpV7ZhML9Gk"
      },
      "source": [
        "np.random.seed(3)\r\n",
        "\r\n",
        "# 5개의 데이터와 3개의 속성\r\n",
        "input = numpy.random.normal(3.0, 5.0, 5)\r\n",
        "\r\n",
        "# 데이터의 행의 숫자와 열의 숫자가 같아야 행렬 곱셈이 이루어짐\r\n",
        "a = numpy.random.normal(1.0, 0.5, (5,5))\r\n",
        "b = numpy.random.normal(1.0, 0.5, (5,5))\r\n",
        "c = numpy.random.normal(1.0, 0.5, (5,5))"
      ],
      "execution_count": null,
      "outputs": []
    },
    {
      "cell_type": "code",
      "metadata": {
        "id": "6gnFsI8ZL83p"
      },
      "source": [
        "# 계산 수행\r\n",
        "import numpy as np\r\n",
        "node1 = np.dot(a, input)\r\n",
        "node2 = np.dot(b, node1)\r\n",
        "node3 = np.dot(c, node2)"
      ],
      "execution_count": null,
      "outputs": []
    },
    {
      "cell_type": "code",
      "metadata": {
        "colab": {
          "base_uri": "https://localhost:8080/"
        },
        "id": "jhZl2zYpxz_o",
        "outputId": "87c0ceff-b08a-465d-eeb1-eba9f9991fdd"
      },
      "source": [
        "node3"
      ],
      "execution_count": null,
      "outputs": [
        {
          "output_type": "execute_result",
          "data": {
            "text/plain": [
              "array([ 92.89735621, 257.97872572, 286.7961702 , 247.14654141,\n",
              "       276.59170321])"
            ]
          },
          "metadata": {
            "tags": []
          },
          "execution_count": 273
        }
      ]
    },
    {
      "cell_type": "code",
      "metadata": {
        "colab": {
          "base_uri": "https://localhost:8080/"
        },
        "id": "uSFg_SdZPayK",
        "outputId": "e88bcfc8-5930-4f10-ef4c-73abf6fab0a1"
      },
      "source": [
        "input"
      ],
      "execution_count": null,
      "outputs": [
        {
          "output_type": "execute_result",
          "data": {
            "text/plain": [
              "array([11.94314237,  5.18254925,  3.48248734, -6.31746352,  1.61305899])"
            ]
          },
          "metadata": {
            "tags": []
          },
          "execution_count": 274
        }
      ]
    },
    {
      "cell_type": "markdown",
      "metadata": {
        "id": "7eAw2QYscbOt"
      },
      "source": [
        "## 1차 알고리즘 (맵1 노드)\r\n",
        "> 1차원의 맵을 위한 2차원"
      ]
    },
    {
      "cell_type": "markdown",
      "metadata": {
        "id": "AknkXv-WZzq7"
      },
      "source": [
        "> 노드 안에는 데이터와 그 특성이 들어가는 것이 아닌\r\n",
        "* 데이터의 특성이 한 행으로 줄지어 들어감!!!!\r\n",
        "* 각 독립적인 데이터 들은 열로 줄지어 있음\r\n",
        "\r\n",
        "> 따라서 데이터는 들어가면서 행과 열이 서로 바뀜!!!"
      ]
    },
    {
      "cell_type": "code",
      "metadata": {
        "id": "M47ZMn2_et1S"
      },
      "source": [
        "# 예시로 1개의 데이터와 3*3의 맵\r\n",
        "# 2개의 데이터는 2개의 속성을 가짐\r\n",
        "\r\n",
        "input = numpy.random.normal(3.0, 5.0, (2,2))\r\n",
        "input = input.T  # 행과 열을 바꾸어서 한 데이터의 속성 값이 노드로 들어감\r\n",
        "\r\n",
        "\r\n",
        "# 가중치\r\n",
        "w1 = numpy.random.normal(1.0, 0.5, (3,2))"
      ],
      "execution_count": null,
      "outputs": []
    },
    {
      "cell_type": "markdown",
      "metadata": {
        "id": "wSnyPhHfY23g"
      },
      "source": [
        "> 행렬 곱셈에 따라\r\n",
        "* 들어가는 인풋은 열을, 노드는 행을 담당\r\n",
        "* (노드 수, 인풋 데이터 수)"
      ]
    },
    {
      "cell_type": "code",
      "metadata": {
        "id": "HtlCIcViTunm"
      },
      "source": [
        "# 계산 수행\r\n",
        "# 결론적으로 노드가 행으로 나오고 데이터는 열로 나오도록 구성\r\n",
        "# 행렬 곱셈에서 노드 수가 앞에, 들어가는 데이터 수가 뒤로 두기\r\n",
        "import numpy as np\r\n",
        "node1 = np.dot(w1, input)\r\n",
        "\r\n"
      ],
      "execution_count": null,
      "outputs": []
    },
    {
      "cell_type": "code",
      "metadata": {
        "colab": {
          "base_uri": "https://localhost:8080/"
        },
        "id": "3cIPpIdTWHkh",
        "outputId": "22dec9e3-fe2c-4850-de4d-f741560e981e"
      },
      "source": [
        "node1"
      ],
      "execution_count": null,
      "outputs": [
        {
          "output_type": "execute_result",
          "data": {
            "text/plain": [
              "array([[15.00725169, -1.80501328],\n",
              "       [10.00409704, -1.63792394],\n",
              "       [25.27551981,  0.4033189 ]])"
            ]
          },
          "metadata": {
            "tags": []
          },
          "execution_count": 79
        }
      ]
    },
    {
      "cell_type": "code",
      "metadata": {
        "colab": {
          "base_uri": "https://localhost:8080/"
        },
        "id": "2MYWlYSe00hz",
        "outputId": "2b22305b-eca5-4214-f6e3-7752f7466610"
      },
      "source": [
        "node1.shape"
      ],
      "execution_count": null,
      "outputs": [
        {
          "output_type": "execute_result",
          "data": {
            "text/plain": [
              "(3, 2)"
            ]
          },
          "metadata": {
            "tags": []
          },
          "execution_count": 80
        }
      ]
    },
    {
      "cell_type": "code",
      "metadata": {
        "colab": {
          "base_uri": "https://localhost:8080/"
        },
        "id": "qF3DXqveWJLG",
        "outputId": "46661a13-3518-44dd-a5e2-2849fa87065c"
      },
      "source": [
        "# 따라서 가장 큰 값을 뽑으려면\r\n",
        "# 다시 행렬을 바꾸어 뽑기\r\n",
        "\r\n",
        "print(\"1번째 데이터의 웨이트값은 %s 번째 가 가장 큼\" % (np.argmax(node1.T[0])+1))\r\n",
        "print(\"2번째 데이터의 웨이트값은 %s 번째 가 가장 큼\" % (np.argmax(node1.T[1])+1))"
      ],
      "execution_count": null,
      "outputs": [
        {
          "output_type": "stream",
          "text": [
            "1번째 데이터의 웨이트값은 3 번째 가 가장 큼\n",
            "2번째 데이터의 웨이트값은 3 번째 가 가장 큼\n"
          ],
          "name": "stdout"
        }
      ]
    },
    {
      "cell_type": "code",
      "metadata": {
        "colab": {
          "base_uri": "https://localhost:8080/"
        },
        "id": "OClqeGXFutcs",
        "outputId": "76e63e1f-10e2-44d2-d592-11d00ff8a571"
      },
      "source": [
        "# 맵 그래프?\r\n",
        "node1.T"
      ],
      "execution_count": null,
      "outputs": [
        {
          "output_type": "execute_result",
          "data": {
            "text/plain": [
              "array([[15.00725169, 10.00409704, 25.27551981],\n",
              "       [-1.80501328, -1.63792394,  0.4033189 ]])"
            ]
          },
          "metadata": {
            "tags": []
          },
          "execution_count": 85
        }
      ]
    },
    {
      "cell_type": "code",
      "metadata": {
        "colab": {
          "base_uri": "https://localhost:8080/",
          "height": 175
        },
        "id": "2nngT53bu-Lc",
        "outputId": "076af227-dddb-47c5-c732-67d5b3cb861b"
      },
      "source": [
        "# 그래프 그려보기\r\n",
        "import matplotlib.pyplot\r\n",
        "matplotlib.pyplot.imshow([node1.T[0]], cmap='Greys', interpolation = 'None')\r\n",
        "matplotlib.pyplot.title('map1')\r\n",
        "matplotlib.pyplot.show()"
      ],
      "execution_count": null,
      "outputs": [
        {
          "output_type": "display_data",
          "data": {
            "image/png": "[encoded data removed]",
            "text/plain": [
              "<Figure size 432x288 with 1 Axes>"
            ]
          },
          "metadata": {
            "tags": [],
            "needs_background": "light"
          }
        }
      ]
    },
    {
      "cell_type": "markdown",
      "metadata": {
        "id": "ZCOsfZchcikA"
      },
      "source": [
        "> 1차 완성\r\n",
        "--------"
      ]
    },
    {
      "cell_type": "markdown",
      "metadata": {
        "id": "nRiSS70Ugo_G"
      },
      "source": [
        "## 2차 알고리즘 (맵1 노드)\r\n",
        "> 2차원의 맵을 위한 3차원"
      ]
    },
    {
      "cell_type": "code",
      "metadata": {
        "id": "1vE4lynzgwTg"
      },
      "source": [
        "# 예시로 1개의 데이터와 3*3*3의 맵\r\n",
        "# 3차원의 맵을 의미\r\n",
        "# 3개의 데이터는 2개의 속성을 가짐\r\n",
        "\r\n",
        "input = numpy.random.normal(3.0, 5.0, (3,2))\r\n",
        "input = input.T  # 행과 열을 바꾸어서 한 데이터의 속성 값이 노드로 들어감\r\n",
        "\r\n",
        "\r\n",
        "# 가중치\r\n",
        "w1 = numpy.random.normal(1.0, 0.5, (3,3,2))"
      ],
      "execution_count": null,
      "outputs": []
    },
    {
      "cell_type": "code",
      "metadata": {
        "id": "Ql1wNh_0gwTr"
      },
      "source": [
        "# 계산 수행\r\n",
        "# 결론적으로 노드가 행으로 나오고 데이터는 열로 나오도록 구성\r\n",
        "# 행렬 곱셈에서 노드수가 앞에, 들어가는 데이터수가 뒤로 두기\r\n",
        "import numpy as np\r\n",
        "node1 = np.dot(w1, input)\r\n"
      ],
      "execution_count": null,
      "outputs": []
    },
    {
      "cell_type": "code",
      "metadata": {
        "colab": {
          "base_uri": "https://localhost:8080/"
        },
        "id": "jXmjBaG_gwTs",
        "outputId": "f10c4796-39e2-4c9d-b436-0d37f59e8174"
      },
      "source": [
        "node1"
      ],
      "execution_count": null,
      "outputs": [
        {
          "output_type": "execute_result",
          "data": {
            "text/plain": [
              "array([[[11.61309726,  8.82293913, 13.31404688],\n",
              "        [ 8.64285734,  6.29301326, 11.38578202],\n",
              "        [ 1.42026464,  0.4146287 ,  5.2187956 ]],\n",
              "\n",
              "       [[ 8.59658991,  5.71109527, 14.28752274],\n",
              "        [ 8.42095433,  5.74949762, 13.15752188],\n",
              "        [ 4.80212908,  3.12511651,  8.33321295]],\n",
              "\n",
              "       [[13.78790535, 10.20573764, 17.26375309],\n",
              "        [ 6.19468189,  3.3866994 , 14.23353652],\n",
              "        [ 6.21485618,  3.55735772, 13.41724017]]])"
            ]
          },
          "metadata": {
            "tags": []
          },
          "execution_count": 305
        }
      ]
    },
    {
      "cell_type": "code",
      "metadata": {
        "colab": {
          "base_uri": "https://localhost:8080/"
        },
        "id": "belZjPP4gwTu",
        "outputId": "652b5462-1c73-45a7-a97c-b13f92a2069d"
      },
      "source": [
        "node1.shape"
      ],
      "execution_count": null,
      "outputs": [
        {
          "output_type": "execute_result",
          "data": {
            "text/plain": [
              "(3, 3, 3)"
            ]
          },
          "metadata": {
            "tags": []
          },
          "execution_count": 306
        }
      ]
    },
    {
      "cell_type": "code",
      "metadata": {
        "colab": {
          "base_uri": "https://localhost:8080/"
        },
        "id": "KU9NRYCxhmDh",
        "outputId": "11001092-c3da-4d54-df8b-4d2070f477af"
      },
      "source": [
        "node1[0]"
      ],
      "execution_count": null,
      "outputs": [
        {
          "output_type": "execute_result",
          "data": {
            "text/plain": [
              "array([[11.61309726,  8.82293913, 13.31404688],\n",
              "       [ 8.64285734,  6.29301326, 11.38578202],\n",
              "       [ 1.42026464,  0.4146287 ,  5.2187956 ]])"
            ]
          },
          "metadata": {
            "tags": []
          },
          "execution_count": 307
        }
      ]
    },
    {
      "cell_type": "code",
      "metadata": {
        "colab": {
          "base_uri": "https://localhost:8080/"
        },
        "id": "N5ZQKAaohs7m",
        "outputId": "9808034e-ee10-4ebf-9c51-68c1d1a3147a"
      },
      "source": [
        "node1[0].T"
      ],
      "execution_count": null,
      "outputs": [
        {
          "output_type": "execute_result",
          "data": {
            "text/plain": [
              "array([[11.61309726,  8.64285734,  1.42026464],\n",
              "       [ 8.82293913,  6.29301326,  0.4146287 ],\n",
              "       [13.31404688, 11.38578202,  5.2187956 ]])"
            ]
          },
          "metadata": {
            "tags": []
          },
          "execution_count": 308
        }
      ]
    },
    {
      "cell_type": "code",
      "metadata": {
        "colab": {
          "base_uri": "https://localhost:8080/"
        },
        "id": "y_cBFIwsgwTv",
        "outputId": "4d48a57e-e887-4fde-9e98-b6787da758f8"
      },
      "source": [
        "# 따라서 가장 큰 값을 뽑으려면\r\n",
        "# 다시 행렬을 바꾸어 뽑기\r\n",
        "# 1차에서의 의미\r\n",
        "# 3차까지 있음\r\n",
        "\r\n",
        "print(\"1번째 데이터의 웨이트값은 %s 번째 가 가장 큼\" % (np.argmax(node1[0].T[0])+1))\r\n",
        "print(\"2번째 데이터의 웨이트값은 %s 번째 가 가장 큼\" % (np.argmax(node1[0].T[1])+1))"
      ],
      "execution_count": null,
      "outputs": [
        {
          "output_type": "stream",
          "text": [
            "1번째 데이터의 웨이트값은 1 번째 가 가장 큼\n",
            "2번째 데이터의 웨이트값은 1 번째 가 가장 큼\n"
          ],
          "name": "stdout"
        }
      ]
    },
    {
      "cell_type": "code",
      "metadata": {
        "colab": {
          "base_uri": "https://localhost:8080/"
        },
        "id": "-G6GW4orcuGa",
        "outputId": "992078e2-b0c0-4b79-a68a-dc7a62ec9bd5"
      },
      "source": [
        "# 2차원의 맵을 생성 1차\r\n",
        "node1[0].T[0]\r\n",
        "node1[1].T[0]\r\n",
        "node1[2].T[0]"
      ],
      "execution_count": null,
      "outputs": [
        {
          "output_type": "execute_result",
          "data": {
            "text/plain": [
              "array([13.78790535,  6.19468189,  6.21485618])"
            ]
          },
          "metadata": {
            "tags": []
          },
          "execution_count": 310
        }
      ]
    },
    {
      "cell_type": "markdown",
      "metadata": {
        "id": "TPzAlpcaiqDE"
      },
      "source": [
        "> Numpy 배열 합치기\r\n",
        "* https://rfriend.tistory.com/352"
      ]
    },
    {
      "cell_type": "code",
      "metadata": {
        "colab": {
          "base_uri": "https://localhost:8080/"
        },
        "id": "Krsb5PRBcuA4",
        "outputId": "e3ea1479-0a9c-468a-9b98-5e5d5d8bbd44"
      },
      "source": [
        "# 2차원의 맵을 생성 2차\r\n",
        "# 각 차원은 열을 구성하고(세로로 붙임)\r\n",
        "# 각 노드 그러니까 속성은 행으로\r\n",
        "# 결론적으로 배열들을 열별로 붙임 (옆으로 .T를 사용하여)\r\n",
        "map1 = np.vstack([node1[0].T[0], node1[1].T[0], node1[2].T[0]]).T\r\n",
        "map1"
      ],
      "execution_count": null,
      "outputs": [
        {
          "output_type": "execute_result",
          "data": {
            "text/plain": [
              "array([[11.61309726,  8.59658991, 13.78790535],\n",
              "       [ 8.64285734,  8.42095433,  6.19468189],\n",
              "       [ 1.42026464,  4.80212908,  6.21485618]])"
            ]
          },
          "metadata": {
            "tags": []
          },
          "execution_count": 317
        }
      ]
    },
    {
      "cell_type": "code",
      "metadata": {
        "colab": {
          "base_uri": "https://localhost:8080/"
        },
        "id": "2-K0oLT0ct5a",
        "outputId": "32f47f5b-4fff-4cb7-9ef7-711708d63f88"
      },
      "source": [
        "map2 = np.vstack([node1[0].T[1], node1[1].T[1], node1[2].T[1]]).T\r\n",
        "map2"
      ],
      "execution_count": null,
      "outputs": [
        {
          "output_type": "execute_result",
          "data": {
            "text/plain": [
              "array([[ 8.82293913,  5.71109527, 10.20573764],\n",
              "       [ 6.29301326,  5.74949762,  3.3866994 ],\n",
              "       [ 0.4146287 ,  3.12511651,  3.55735772]])"
            ]
          },
          "metadata": {
            "tags": []
          },
          "execution_count": 318
        }
      ]
    },
    {
      "cell_type": "code",
      "metadata": {
        "colab": {
          "base_uri": "https://localhost:8080/"
        },
        "id": "pStOzdJlkWxG",
        "outputId": "87e692c0-65ad-42b3-b45e-18d7221e6c3e"
      },
      "source": [
        "map3 = np.vstack([node1[0].T[2], node1[1].T[2], node1[2].T[2]]).T\r\n",
        "map3"
      ],
      "execution_count": null,
      "outputs": [
        {
          "output_type": "execute_result",
          "data": {
            "text/plain": [
              "array([[13.31404688, 14.28752274, 17.26375309],\n",
              "       [11.38578202, 13.15752188, 14.23353652],\n",
              "       [ 5.2187956 ,  8.33321295, 13.41724017]])"
            ]
          },
          "metadata": {
            "tags": []
          },
          "execution_count": 319
        }
      ]
    },
    {
      "cell_type": "code",
      "metadata": {
        "colab": {
          "base_uri": "https://localhost:8080/",
          "height": 809
        },
        "id": "I_o-XqE9ctyF",
        "outputId": "a77bd641-1161-4afd-d62d-e0cb3b0f008d"
      },
      "source": [
        "# 그래프 그려보기\r\n",
        "import matplotlib.pyplot\r\n",
        "matplotlib.pyplot.imshow(map1, cmap='Greys', interpolation = 'None')\r\n",
        "matplotlib.pyplot.title('map1')\r\n",
        "matplotlib.pyplot.show()\r\n",
        "\r\n",
        "matplotlib.pyplot.imshow(map2, cmap='Greys', interpolation = 'None')\r\n",
        "matplotlib.pyplot.title('map2')\r\n",
        "matplotlib.pyplot.show()\r\n",
        "\r\n",
        "matplotlib.pyplot.imshow(map3, cmap='Greys', interpolation = 'None')\r\n",
        "matplotlib.pyplot.title('map3')\r\n",
        "matplotlib.pyplot.show()"
      ],
      "execution_count": null,
      "outputs": [
        {
          "output_type": "display_data",
          "data": {
            "image/png": "[encoded data removed]",
            "text/plain": [
              "<Figure size 432x288 with 1 Axes>"
            ]
          },
          "metadata": {
            "tags": [],
            "needs_background": "light"
          }
        },
        {
          "output_type": "display_data",
          "data": {
            "image/png": "[encoded data removed]",
            "text/plain": [
              "<Figure size 432x288 with 1 Axes>"
            ]
          },
          "metadata": {
            "tags": [],
            "needs_background": "light"
          }
        },
        {
          "output_type": "display_data",
          "data": {
            "image/png": "[encoded data removed]",
            "text/plain": [
              "<Figure size 432x288 with 1 Axes>"
            ]
          },
          "metadata": {
            "tags": [],
            "needs_background": "light"
          }
        }
      ]
    },
    {
      "cell_type": "markdown",
      "metadata": {
        "id": "zE1DYtZllSp2"
      },
      "source": [
        "> 2차 완성\r\n",
        "-----"
      ]
    },
    {
      "cell_type": "markdown",
      "metadata": {
        "id": "F0v-0s2Jn5nS"
      },
      "source": [
        "### 2차-1 알고리즘\r\n",
        "> 맵의 크기의 다양화"
      ]
    },
    {
      "cell_type": "code",
      "metadata": {
        "id": "V2w9GAtsoCHD"
      },
      "source": [
        "# 예시로 1개의 데이터와 5*5 크기의 맵\r\n",
        "# 5차원의 맵을 의미\r\n",
        "# 3개의 데이터는 2개의 속성을 가짐\r\n",
        "\r\n",
        "input = numpy.random.normal(3.0, 5.0, (3,2))\r\n",
        "input = input.T  # 행과 열을 바꾸어서 한 데이터의 속성 값이 노드로 들어감\r\n",
        "\r\n",
        "\r\n",
        "# 가중치\r\n",
        "w1 = numpy.random.normal(1.0, 0.5, (5,5,2))"
      ],
      "execution_count": null,
      "outputs": []
    },
    {
      "cell_type": "code",
      "metadata": {
        "id": "uNP8JIwFoCHE"
      },
      "source": [
        "# 계산 수행\r\n",
        "# 결론적으로 노드가 행으로 나오고 데이터는 열로 나오도록 구성\r\n",
        "# 행렬 곱셈에서 노드수가 앞에, 들어가는 데이터수가 뒤로 두기\r\n",
        "import numpy as np\r\n",
        "node1 = np.dot(w1, input)\r\n"
      ],
      "execution_count": null,
      "outputs": []
    },
    {
      "cell_type": "code",
      "metadata": {
        "colab": {
          "base_uri": "https://localhost:8080/"
        },
        "id": "7n2I9yPVoCHE",
        "outputId": "755d302e-eca7-4b66-8c0b-e4c7ee703307"
      },
      "source": [
        "node1"
      ],
      "execution_count": null,
      "outputs": [
        {
          "output_type": "execute_result",
          "data": {
            "text/plain": [
              "array([[[ 7.17894262,  6.03935467,  5.26769394],\n",
              "        [ 6.24814338,  0.32161161,  5.71712915],\n",
              "        [15.63217574, 12.44583908, 11.63218183],\n",
              "        [ 9.09598599,  6.38312475,  6.96556775],\n",
              "        [ 7.46626021,  9.83086218,  4.66390172]],\n",
              "\n",
              "       [[11.41034391, 10.66200903,  8.12864201],\n",
              "        [ 5.90751575,  8.5357868 ,  3.51641625],\n",
              "        [15.27917214,  9.23437755, 12.04198414],\n",
              "        [11.17236754,  4.54189795,  9.31253904],\n",
              "        [ 7.05679844, 11.57337164,  3.88452674]],\n",
              "\n",
              "       [[ 8.77766662, 17.71726369,  4.0695531 ],\n",
              "        [ 3.3091061 ,  6.11009352,  1.66480064],\n",
              "        [13.95660704, 12.46049468, 10.07586022],\n",
              "        [12.15602389, 11.46671712,  8.63509005],\n",
              "        [ 7.97839625,  6.19285876,  5.97342076]],\n",
              "\n",
              "       [[ 8.26172999,  4.64481583,  6.59127047],\n",
              "        [ 9.14208272,  9.39591396,  6.31690845],\n",
              "        [13.01070332,  6.82890724, 10.491525  ],\n",
              "        [12.6435236 ,  5.18829154, 10.52770664],\n",
              "        [ 6.04276207,  1.72851155,  5.20391753]],\n",
              "\n",
              "       [[10.80706148, 10.36065827,  7.63865975],\n",
              "        [10.33809246,  5.80520047,  8.24940628],\n",
              "        [ 8.1489615 ,  4.37169515,  6.54943032],\n",
              "        [ 7.31856007,  2.20281016,  6.27751529],\n",
              "        [18.19748707,  5.20872527, 15.67056782]]])"
            ]
          },
          "metadata": {
            "tags": []
          },
          "execution_count": 17
        }
      ]
    },
    {
      "cell_type": "code",
      "metadata": {
        "colab": {
          "base_uri": "https://localhost:8080/"
        },
        "id": "wGOPuAG1oCHG",
        "outputId": "ec8b1a7f-9ce0-4c96-cc32-7a1ad909204a"
      },
      "source": [
        "node1.shape"
      ],
      "execution_count": null,
      "outputs": [
        {
          "output_type": "execute_result",
          "data": {
            "text/plain": [
              "(5, 5, 3)"
            ]
          },
          "metadata": {
            "tags": []
          },
          "execution_count": 18
        }
      ]
    },
    {
      "cell_type": "code",
      "metadata": {
        "colab": {
          "base_uri": "https://localhost:8080/"
        },
        "id": "wbW26QbboCHG",
        "outputId": "1eafc83a-1079-4acc-8664-50ec40197182"
      },
      "source": [
        "node1[0]"
      ],
      "execution_count": null,
      "outputs": [
        {
          "output_type": "execute_result",
          "data": {
            "text/plain": [
              "array([[ 7.17894262,  6.03935467,  5.26769394],\n",
              "       [ 6.24814338,  0.32161161,  5.71712915],\n",
              "       [15.63217574, 12.44583908, 11.63218183],\n",
              "       [ 9.09598599,  6.38312475,  6.96556775],\n",
              "       [ 7.46626021,  9.83086218,  4.66390172]])"
            ]
          },
          "metadata": {
            "tags": []
          },
          "execution_count": 19
        }
      ]
    },
    {
      "cell_type": "code",
      "metadata": {
        "colab": {
          "base_uri": "https://localhost:8080/"
        },
        "id": "lkY2S466oCHH",
        "outputId": "1f080284-ea61-4400-8fbf-3797ad0af5de"
      },
      "source": [
        "node1[0].T"
      ],
      "execution_count": null,
      "outputs": [
        {
          "output_type": "execute_result",
          "data": {
            "text/plain": [
              "array([[ 7.17894262,  6.24814338, 15.63217574,  9.09598599,  7.46626021],\n",
              "       [ 6.03935467,  0.32161161, 12.44583908,  6.38312475,  9.83086218],\n",
              "       [ 5.26769394,  5.71712915, 11.63218183,  6.96556775,  4.66390172]])"
            ]
          },
          "metadata": {
            "tags": []
          },
          "execution_count": 20
        }
      ]
    },
    {
      "cell_type": "code",
      "metadata": {
        "colab": {
          "base_uri": "https://localhost:8080/"
        },
        "id": "wK1oUShQoCHH",
        "outputId": "a780318a-093f-4b48-d99d-1993e1ff8ee4"
      },
      "source": [
        "# 따라서 가장 큰 값을 뽑으려면\r\n",
        "# 다시 행렬을 바꾸어 뽑기\r\n",
        "# 1차에서의 의미\r\n",
        "# 3차까지 있음\r\n",
        "\r\n",
        "print(\"1번째 데이터의 웨이트값은 %s 번째 가 가장 큼\" % (np.argmax(node1[0].T[0])+1))\r\n",
        "print(\"2번째 데이터의 웨이트값은 %s 번째 가 가장 큼\" % (np.argmax(node1[0].T[1])+1))"
      ],
      "execution_count": null,
      "outputs": [
        {
          "output_type": "stream",
          "text": [
            "1번째 데이터의 웨이트값은 3 번째 가 가장 큼\n",
            "2번째 데이터의 웨이트값은 3 번째 가 가장 큼\n"
          ],
          "name": "stdout"
        }
      ]
    },
    {
      "cell_type": "code",
      "metadata": {
        "colab": {
          "base_uri": "https://localhost:8080/"
        },
        "id": "BEwss7BooCHI",
        "outputId": "c7700a78-c369-4542-83b6-b5db25210c25"
      },
      "source": [
        "# 2차원의 맵을 생성 1차\r\n",
        "node1[0].T[0]\r\n",
        "node1[1].T[0]\r\n",
        "node1[2].T[0]\r\n",
        "node1[3].T[0]\r\n",
        "node1[4].T[0]"
      ],
      "execution_count": null,
      "outputs": [
        {
          "output_type": "execute_result",
          "data": {
            "text/plain": [
              "array([10.80706148, 10.33809246,  8.1489615 ,  7.31856007, 18.19748707])"
            ]
          },
          "metadata": {
            "tags": []
          },
          "execution_count": 23
        }
      ]
    },
    {
      "cell_type": "markdown",
      "metadata": {
        "id": "sVSDz1uIoCHI"
      },
      "source": [
        "> Numpy 배열 합치기\r\n",
        "* https://rfriend.tistory.com/352"
      ]
    },
    {
      "cell_type": "code",
      "metadata": {
        "colab": {
          "base_uri": "https://localhost:8080/"
        },
        "id": "kSn-z8tVoCHI",
        "outputId": "ab05a1e5-9b20-46cf-9544-0c48dfac6bad"
      },
      "source": [
        "# 2차원의 맵을 생성 2차\r\n",
        "# 각 차원은 열을 구성하고(세로로 붙임)\r\n",
        "# 각 노드 그러니까 속성은 행으로\r\n",
        "# 결론적으로 배열들을 열별로 붙임 (옆으로 .T를 사용하여)\r\n",
        "map1 = np.vstack([node1[0].T[0], node1[1].T[0], node1[2].T[0], node1[3].T[0], node1[4].T[0]]).T\r\n",
        "map1"
      ],
      "execution_count": null,
      "outputs": [
        {
          "output_type": "execute_result",
          "data": {
            "text/plain": [
              "array([[ 7.17894262, 11.41034391,  8.77766662,  8.26172999, 10.80706148],\n",
              "       [ 6.24814338,  5.90751575,  3.3091061 ,  9.14208272, 10.33809246],\n",
              "       [15.63217574, 15.27917214, 13.95660704, 13.01070332,  8.1489615 ],\n",
              "       [ 9.09598599, 11.17236754, 12.15602389, 12.6435236 ,  7.31856007],\n",
              "       [ 7.46626021,  7.05679844,  7.97839625,  6.04276207, 18.19748707]])"
            ]
          },
          "metadata": {
            "tags": []
          },
          "execution_count": 24
        }
      ]
    },
    {
      "cell_type": "code",
      "metadata": {
        "colab": {
          "base_uri": "https://localhost:8080/"
        },
        "id": "Z41C9TnLoCHJ",
        "outputId": "c7805eab-bd1f-44a1-da85-19a80542ec6a"
      },
      "source": [
        "map2 = np.vstack([node1[0].T[1], node1[1].T[1], node1[2].T[1], node1[3].T[1], node1[4].T[1]]).T\r\n",
        "map2"
      ],
      "execution_count": null,
      "outputs": [
        {
          "output_type": "execute_result",
          "data": {
            "text/plain": [
              "array([[ 6.03935467, 10.66200903, 17.71726369,  4.64481583, 10.36065827],\n",
              "       [ 0.32161161,  8.5357868 ,  6.11009352,  9.39591396,  5.80520047],\n",
              "       [12.44583908,  9.23437755, 12.46049468,  6.82890724,  4.37169515],\n",
              "       [ 6.38312475,  4.54189795, 11.46671712,  5.18829154,  2.20281016],\n",
              "       [ 9.83086218, 11.57337164,  6.19285876,  1.72851155,  5.20872527]])"
            ]
          },
          "metadata": {
            "tags": []
          },
          "execution_count": 25
        }
      ]
    },
    {
      "cell_type": "code",
      "metadata": {
        "colab": {
          "base_uri": "https://localhost:8080/"
        },
        "id": "yqhl3Z_NoCHJ",
        "outputId": "7ceb63f5-5b07-450f-ee11-6baa715a6613"
      },
      "source": [
        "map3 = np.vstack([node1[0].T[2], node1[1].T[2], node1[2].T[2], node1[3].T[2], node1[4].T[2]]).T\r\n",
        "map3"
      ],
      "execution_count": null,
      "outputs": [
        {
          "output_type": "execute_result",
          "data": {
            "text/plain": [
              "array([[ 5.26769394,  8.12864201,  4.0695531 ,  6.59127047,  7.63865975],\n",
              "       [ 5.71712915,  3.51641625,  1.66480064,  6.31690845,  8.24940628],\n",
              "       [11.63218183, 12.04198414, 10.07586022, 10.491525  ,  6.54943032],\n",
              "       [ 6.96556775,  9.31253904,  8.63509005, 10.52770664,  6.27751529],\n",
              "       [ 4.66390172,  3.88452674,  5.97342076,  5.20391753, 15.67056782]])"
            ]
          },
          "metadata": {
            "tags": []
          },
          "execution_count": 26
        }
      ]
    },
    {
      "cell_type": "code",
      "metadata": {
        "colab": {
          "base_uri": "https://localhost:8080/",
          "height": 809
        },
        "id": "jxic-nLjoCHK",
        "outputId": "43348a69-459f-46b8-e574-7f7d8a5152f3"
      },
      "source": [
        "# 그래프 그려보기\r\n",
        "import matplotlib.pyplot\r\n",
        "matplotlib.pyplot.imshow(map1, cmap='Greys', interpolation = 'None')\r\n",
        "matplotlib.pyplot.title('map1')\r\n",
        "matplotlib.pyplot.show()\r\n",
        "\r\n",
        "matplotlib.pyplot.imshow(map2, cmap='Greys', interpolation = 'None')\r\n",
        "matplotlib.pyplot.title('map2')\r\n",
        "matplotlib.pyplot.show()\r\n",
        "\r\n",
        "matplotlib.pyplot.imshow(map3, cmap='Greys', interpolation = 'None')\r\n",
        "matplotlib.pyplot.title('map3')\r\n",
        "matplotlib.pyplot.show()"
      ],
      "execution_count": null,
      "outputs": [
        {
          "output_type": "display_data",
          "data": {
            "image/png": "[encoded data removed]",
            "text/plain": [
              "<Figure size 432x288 with 1 Axes>"
            ]
          },
          "metadata": {
            "tags": [],
            "needs_background": "light"
          }
        },
        {
          "output_type": "display_data",
          "data": {
            "image/png": "[encoded data removed]",
            "text/plain": [
              "<Figure size 432x288 with 1 Axes>"
            ]
          },
          "metadata": {
            "tags": [],
            "needs_background": "light"
          }
        },
        {
          "output_type": "display_data",
          "data": {
            "image/png": "[encoded data removed]",
            "text/plain": [
              "<Figure size 432x288 with 1 Axes>"
            ]
          },
          "metadata": {
            "tags": [],
            "needs_background": "light"
          }
        }
      ]
    },
    {
      "cell_type": "markdown",
      "metadata": {
        "id": "4z-vj0mfpbx-"
      },
      "source": [
        "> 2차 알고리즘 맵의 크기\r\n",
        "* 행의 크기는 히든 노드의 수\r\n",
        "* 열의 크기는 차원의 수 (세로로 붙이기를 하니까) !!\r\n",
        "\r\n",
        "> 2차 알고리즘 정리 (5*5의 맵으로 가정)\r\n",
        "* 총 5개의 차원으로 구성\r\n",
        "* 차원 하나는 맵에서 한 열을 담당\r\n",
        "* 각 인풋은 5개의 히든 노드랑 연결 \r\n",
        "\r\n",
        "> 결론적으로 히든 노드는 행을 담당하며, 차원은 열을 담당하여 맵을 생성\r\n",
        "\r\n",
        "---------"
      ]
    },
    {
      "cell_type": "markdown",
      "metadata": {
        "id": "LQ0SZv5Glotp"
      },
      "source": [
        "## 3차 알고리즘 (맵2 노드)\r\n",
        "> 각 데이터가 하나의 차원을 가지도록 코딩\r\n",
        "* 2차 알고리즘은 각 차원들을 더해 하나의 지도를 만드는 것이었다면\r\n",
        "* 3차 알고리즘은 한 차원이 지도 하나를 생성하도록\r\n",
        "\r\n",
        "> 결론적으로 한 데이터는 하나의 차원과 하나의 지도를 만들도록 코딩됨\r\n",
        "\r\n"
      ]
    },
    {
      "cell_type": "code",
      "metadata": {
        "id": "j8JMjqZGivFQ"
      },
      "source": [
        "# 예시로 1개의 데이터와 5*5의 맵\r\n",
        "# 2차원의 맵을 의미\r\n",
        "# 1개의 데이터는 2개의 속성을 가짐\r\n",
        "\r\n",
        "input = numpy.random.normal(3.0, 5.0, (1,2))\r\n",
        "input = input.T  # 행과 열을 바꾸어서 한 데이터의 속성 값이 노드로 들어감"
      ],
      "execution_count": null,
      "outputs": []
    },
    {
      "cell_type": "code",
      "metadata": {
        "colab": {
          "base_uri": "https://localhost:8080/"
        },
        "id": "hWcBrcJAn-Ow",
        "outputId": "2232bdc9-1978-4f3e-e598-d0d0c8042f94"
      },
      "source": [
        "input.shape"
      ],
      "execution_count": null,
      "outputs": [
        {
          "output_type": "execute_result",
          "data": {
            "text/plain": [
              "(2, 1)"
            ]
          },
          "metadata": {
            "tags": []
          },
          "execution_count": 50
        }
      ]
    },
    {
      "cell_type": "code",
      "metadata": {
        "colab": {
          "base_uri": "https://localhost:8080/"
        },
        "id": "lNAFNwY8_jSU",
        "outputId": "fa259aea-252e-4544-eb55-ca703ef2b552"
      },
      "source": [
        "# 가중치 맵이 3*3\r\n",
        "w1 = numpy.random.normal(1.0, 0.5, (5,5))\r\n",
        "w1"
      ],
      "execution_count": null,
      "outputs": [
        {
          "output_type": "execute_result",
          "data": {
            "text/plain": [
              "array([[1.13303508, 2.19248367, 1.56184563, 1.83631111, 1.04957461],\n",
              "       [1.69899819, 0.86437601, 1.30660209, 0.86634141, 0.72534549],\n",
              "       [1.06635415, 0.76192899, 1.65423654, 1.09750664, 1.20010499],\n",
              "       [0.83118383, 1.62823613, 0.63401525, 1.33011578, 0.82456405],\n",
              "       [0.53028332, 0.75533139, 0.59770443, 0.89365118, 0.83042988]])"
            ]
          },
          "metadata": {
            "tags": []
          },
          "execution_count": 51
        }
      ]
    },
    {
      "cell_type": "code",
      "metadata": {
        "colab": {
          "base_uri": "https://localhost:8080/"
        },
        "id": "zOr8XC81oMtM",
        "outputId": "db4bc167-3b2f-471c-8704-ae4a7ad07de7"
      },
      "source": [
        "input"
      ],
      "execution_count": null,
      "outputs": [
        {
          "output_type": "execute_result",
          "data": {
            "text/plain": [
              "array([[-6.8886414 ],\n",
              "       [-5.71686148]])"
            ]
          },
          "metadata": {
            "tags": []
          },
          "execution_count": 52
        }
      ]
    },
    {
      "cell_type": "code",
      "metadata": {
        "colab": {
          "base_uri": "https://localhost:8080/"
        },
        "id": "V_rzSF5PoJvT",
        "outputId": "f061dc68-81d9-4e54-d5b4-9eccaff35983"
      },
      "source": [
        "input[0]"
      ],
      "execution_count": null,
      "outputs": [
        {
          "output_type": "execute_result",
          "data": {
            "text/plain": [
              "array([-6.8886414])"
            ]
          },
          "metadata": {
            "tags": []
          },
          "execution_count": 53
        }
      ]
    },
    {
      "cell_type": "code",
      "metadata": {
        "colab": {
          "base_uri": "https://localhost:8080/"
        },
        "id": "EemsiJzBoGLV",
        "outputId": "697b0818-a1c6-4541-ef09-eb5d500b7dac"
      },
      "source": [
        "# 계산 수행 - 알고리즘3\r\n",
        "# 맵에 대한 계산 수행이라서 행렬곱이 아닌 그냥 곱셈으로 진행\r\n",
        "# 대신에 각 인풋 노드 수에 따라 곱셈을 진행\r\n",
        "# 행렬의 스칼라곱을 의미\r\n",
        "mapnode1 = w1 * input[0]\r\n",
        "mapnode2 = w1 * input[1]\r\n",
        "\r\n",
        "print(\"인풋 노드1: \\n %s \\n\\n인풋 노드2: \\n %s\" % (mapnode1, mapnode2))"
      ],
      "execution_count": null,
      "outputs": [
        {
          "output_type": "stream",
          "text": [
            "인풋 노드1: \n",
            " [[ -7.80507238 -15.10323375 -10.75899445 -12.64968872  -7.2301431 ]\n",
            " [-11.70378927  -5.95437634  -9.00071327  -5.96791528  -4.99664499]\n",
            " [ -7.34573133  -5.2486556  -11.39544232  -7.56032968  -8.26709295]\n",
            " [ -5.72572736 -11.21633483  -4.36750369  -9.1626906   -5.68012608]\n",
            " [ -3.65293163  -5.2032071   -4.11737148  -6.15604252  -5.72053363]] \n",
            "\n",
            "인풋 노드2: \n",
            " [[ -6.47740462 -12.53412541  -8.9288551  -10.49793623  -6.00027265]\n",
            " [ -9.7129373   -4.94151789  -7.46966317  -4.95275381  -4.14669971]\n",
            " [ -6.09619895  -4.35584251  -9.45704116  -6.27429343  -6.86083401]\n",
            " [ -4.75176283  -9.30840042  -3.62457735  -7.60408764  -4.71391848]\n",
            " [ -3.03155629  -4.31812494  -3.41699343  -5.10888001  -4.74745258]]\n"
          ],
          "name": "stdout"
        }
      ]
    },
    {
      "cell_type": "code",
      "metadata": {
        "colab": {
          "base_uri": "https://localhost:8080/"
        },
        "id": "av_brmtWqQLN",
        "outputId": "eb438345-8fed-4d45-b4b8-63b09147d620"
      },
      "source": [
        "# 계산 수행2\r\n",
        "# 결론\r\n",
        "node1 = mapnode1 + mapnode2\r\n",
        "node1"
      ],
      "execution_count": null,
      "outputs": [
        {
          "output_type": "execute_result",
          "data": {
            "text/plain": [
              "array([[-14.28247699, -27.63735916, -19.68784955, -23.14762495,\n",
              "        -13.23041575],\n",
              "       [-21.41672656, -10.89589424, -16.47037644, -10.92066909,\n",
              "         -9.1433447 ],\n",
              "       [-13.44193029,  -9.60449811, -20.85248348, -13.83462311,\n",
              "        -15.12792696],\n",
              "       [-10.47749018, -20.52473525,  -7.99208105, -16.76677824,\n",
              "        -10.39404456],\n",
              "       [ -6.68448792,  -9.52133203,  -7.5343649 , -11.26492253,\n",
              "        -10.46798621]])"
            ]
          },
          "metadata": {
            "tags": []
          },
          "execution_count": 55
        }
      ]
    },
    {
      "cell_type": "code",
      "metadata": {
        "colab": {
          "base_uri": "https://localhost:8080/",
          "height": 281
        },
        "id": "gxQOH9cZivFj",
        "outputId": "d7dfe62f-b297-42df-9ab6-5666f8e5afbe"
      },
      "source": [
        "# 그래프 그려보기\r\n",
        "import matplotlib.pyplot\r\n",
        "matplotlib.pyplot.imshow(node1, cmap='Greys', interpolation = 'None')\r\n",
        "matplotlib.pyplot.title('map1')\r\n",
        "matplotlib.pyplot.show()"
      ],
      "execution_count": null,
      "outputs": [
        {
          "output_type": "display_data",
          "data": {
            "image/png": "[encoded data removed]",
            "text/plain": [
              "<Figure size 432x288 with 1 Axes>"
            ]
          },
          "metadata": {
            "tags": [],
            "needs_background": "light"
          }
        }
      ]
    },
    {
      "cell_type": "markdown",
      "metadata": {
        "id": "fWoI713orkIp"
      },
      "source": [
        "### 3차-2 알고리즘\r\n",
        "> 데이터 수의 증가"
      ]
    },
    {
      "cell_type": "code",
      "metadata": {
        "id": "YRoHwA8yr5So"
      },
      "source": [
        "# 예시로 3개의 데이터와 5*5의 맵\r\n",
        "# 2차원의 맵을 의미\r\n",
        "# 3개의 데이터는 2개의 속성을 가짐\r\n",
        "\r\n",
        "input = numpy.random.normal(3.0, 5.0, (3,2))\r\n",
        "input = input.T  # 행과 열을 바꾸어서 한 데이터의 속성 값이 노드로 들어감"
      ],
      "execution_count": null,
      "outputs": []
    },
    {
      "cell_type": "code",
      "metadata": {
        "colab": {
          "base_uri": "https://localhost:8080/"
        },
        "id": "JFq80p-Ir5Sy",
        "outputId": "a19a3129-f5d3-4862-f75b-343f6c83ce22"
      },
      "source": [
        "input.shape"
      ],
      "execution_count": null,
      "outputs": [
        {
          "output_type": "execute_result",
          "data": {
            "text/plain": [
              "(2, 3)"
            ]
          },
          "metadata": {
            "tags": []
          },
          "execution_count": 58
        }
      ]
    },
    {
      "cell_type": "code",
      "metadata": {
        "colab": {
          "base_uri": "https://localhost:8080/"
        },
        "id": "81JrIctAr5S0",
        "outputId": "355207b6-d9d3-4fed-82eb-d36970c82cbe"
      },
      "source": [
        "# 가중치 맵이 3*5*5\r\n",
        "# 차원의 수는 데이터의 수\r\n",
        "w1 = numpy.random.normal(1.0, 0.5, (3,5,5))\r\n",
        "w1"
      ],
      "execution_count": null,
      "outputs": [
        {
          "output_type": "execute_result",
          "data": {
            "text/plain": [
              "array([[[ 1.35408001,  1.42111237,  1.1017904 ,  2.19735183,\n",
              "          1.45872947],\n",
              "        [ 0.94386376,  0.81890978,  0.88390887,  0.74913555,\n",
              "          1.56439258],\n",
              "        [ 0.65109498,  0.95943891,  0.73535196,  1.52309143,\n",
              "          0.29072199],\n",
              "        [ 0.81875041,  0.93904715,  1.15967821,  1.23045145,\n",
              "          0.89210505],\n",
              "        [ 1.49453623,  1.15737689,  2.23382553,  0.24583926,\n",
              "          1.31030033]],\n",
              "\n",
              "       [[ 0.47743373,  0.60099559,  1.9925423 ,  1.87240707,\n",
              "          0.07190726],\n",
              "        [ 0.88861315,  0.96707608, -0.06585605,  0.97558474,\n",
              "          1.19667061],\n",
              "        [ 1.10863257,  0.00280312,  1.55385412,  1.12227199,\n",
              "          0.96904399],\n",
              "        [ 0.62305352,  1.35597951,  1.45913458,  0.75895343,\n",
              "          1.04479381],\n",
              "        [ 1.41349931,  0.02274394,  1.05873783,  0.04627156,\n",
              "          0.53854537]],\n",
              "\n",
              "       [[ 1.23487572,  0.92781662,  0.79993082,  0.85200807,\n",
              "          1.4241043 ],\n",
              "        [ 1.35341523,  0.60636554,  1.14647036,  0.76459637,\n",
              "          2.2021628 ],\n",
              "        [ 0.63032163,  0.84358562,  0.82555904,  0.78048688,\n",
              "          1.07055208],\n",
              "        [ 1.13652466,  0.19071463,  0.71344332,  0.33977623,\n",
              "          1.61810266],\n",
              "        [ 2.23266254,  1.69161611,  1.17311656,  1.51125805,\n",
              "          1.08340513]]])"
            ]
          },
          "metadata": {
            "tags": []
          },
          "execution_count": 59
        }
      ]
    },
    {
      "cell_type": "code",
      "metadata": {
        "colab": {
          "base_uri": "https://localhost:8080/"
        },
        "id": "1HHcAd-Ir5S0",
        "outputId": "a6497630-f99d-47d3-d9c7-aad85b2c1b0f"
      },
      "source": [
        "input"
      ],
      "execution_count": null,
      "outputs": [
        {
          "output_type": "execute_result",
          "data": {
            "text/plain": [
              "array([[4.56084968, 2.26289871, 4.44547102],\n",
              "       [5.82576335, 2.87047332, 0.30060464]])"
            ]
          },
          "metadata": {
            "tags": []
          },
          "execution_count": 63
        }
      ]
    },
    {
      "cell_type": "code",
      "metadata": {
        "colab": {
          "base_uri": "https://localhost:8080/"
        },
        "id": "GCgzAiwNr5S1",
        "outputId": "37bd526f-711a-463b-cfd7-3de3942f9153"
      },
      "source": [
        "# 첫번째 데이터를 불러옴\r\n",
        "input[:,0]"
      ],
      "execution_count": null,
      "outputs": [
        {
          "output_type": "execute_result",
          "data": {
            "text/plain": [
              "array([4.56084968, 5.82576335])"
            ]
          },
          "metadata": {
            "tags": []
          },
          "execution_count": 68
        }
      ]
    },
    {
      "cell_type": "code",
      "metadata": {
        "colab": {
          "base_uri": "https://localhost:8080/"
        },
        "id": "36rYVSgftdRZ",
        "outputId": "96062e22-4419-4bb0-adee-9947794c8e31"
      },
      "source": [
        "# 첫번째 맵의 가중치\r\n",
        "w1[0]"
      ],
      "execution_count": null,
      "outputs": [
        {
          "output_type": "execute_result",
          "data": {
            "text/plain": [
              "array([[1.35408001, 1.42111237, 1.1017904 , 2.19735183, 1.45872947],\n",
              "       [0.94386376, 0.81890978, 0.88390887, 0.74913555, 1.56439258],\n",
              "       [0.65109498, 0.95943891, 0.73535196, 1.52309143, 0.29072199],\n",
              "       [0.81875041, 0.93904715, 1.15967821, 1.23045145, 0.89210505],\n",
              "       [1.49453623, 1.15737689, 2.23382553, 0.24583926, 1.31030033]])"
            ]
          },
          "metadata": {
            "tags": []
          },
          "execution_count": 74
        }
      ]
    },
    {
      "cell_type": "code",
      "metadata": {
        "colab": {
          "base_uri": "https://localhost:8080/"
        },
        "id": "0UlcUXwwr5S2",
        "outputId": "c9a0c88d-a3a9-41ce-ae57-b64f50999c35"
      },
      "source": [
        "# 계산 수행 - 알고리즘3\r\n",
        "# 맵에 대한 계산 수행이라서 행렬곱이 아닌 그냥 곱셈으로 진행\r\n",
        "# 대신에 각 인풋 노드 수에 따라 곱셈을 진행\r\n",
        "# 행렬의 스칼라곱을 의미\r\n",
        "# 각 데이터에 대해 계산\r\n",
        "map1 = (w1[0] * input[:,0][0]) + (w1[0] * input[:,0][1])\r\n",
        "map2 = (w1[1] * input[:,1][0]) + (w1[1] * input[:,1][1])\r\n",
        "map3 = (w1[2] * input[:,2][0]) + (w1[2] * input[:,2][1])\r\n",
        "\r\n",
        "print(\"맵1: \\n %s \\n\\n맵2: \\n %s \\n\\n맵3: \\n %s\" % (map1, map2, map3))"
      ],
      "execution_count": null,
      "outputs": [
        {
          "output_type": "stream",
          "text": [
            "맵1: \n",
            " [[14.06430507 14.76054425 11.44387051 22.82304317 15.15125851]\n",
            " [ 9.80354767  8.50569895  9.18081941  7.78098107 16.24874032]\n",
            " [ 6.76267165  9.96532066  7.63781624 15.81976128  3.01961676]\n",
            " [ 8.50404366  9.75351941 12.04512881 12.78022307  9.26594998]\n",
            " [15.52316947 12.02122588 23.20188134  2.55343722 13.6095825 ]] \n",
            "\n",
            "맵2: \n",
            " [[ 2.45084496  3.08513396 10.22846088  9.6117621   0.36912672]\n",
            " [ 4.56158189  4.96436128 -0.33806363  5.00803944  6.14295543]\n",
            " [ 5.69102344  0.01438943  7.97651126  5.76103963  4.97446329]\n",
            " [ 3.19836551  6.96074728  7.49028062  3.89599031  5.3633153 ]\n",
            " [ 7.25601783  0.11675311  5.43489516  0.23752911  2.76455373]] \n",
            "\n",
            "맵3: \n",
            " [[ 5.86081359  4.40348787  3.79653222  4.04369478  6.75890678]\n",
            " [ 6.42341107  2.87785672  5.44123508  3.62883224 10.45163128]\n",
            " [ 2.99155415  4.00372119  3.91816567  3.70424979  5.08092119]\n",
            " [ 5.39403203  0.90514605  3.38605597  1.61260368  7.67963767]\n",
            " [10.59638535  8.02853807  5.56769994  7.17254507  5.14192274]]\n"
          ],
          "name": "stdout"
        }
      ]
    },
    {
      "cell_type": "code",
      "metadata": {
        "colab": {
          "base_uri": "https://localhost:8080/",
          "height": 809
        },
        "id": "1lwB_o71r5S3",
        "outputId": "be1d98da-fcac-40e9-e458-4b0b0b3c5f81"
      },
      "source": [
        "# 그래프 그려보기\r\n",
        "import matplotlib.pyplot\r\n",
        "matplotlib.pyplot.imshow(map1, cmap='Greys', interpolation = 'None')\r\n",
        "matplotlib.pyplot.title('map1')\r\n",
        "matplotlib.pyplot.show()\r\n",
        "\r\n",
        "matplotlib.pyplot.imshow(map2, cmap='Greys', interpolation = 'None')\r\n",
        "matplotlib.pyplot.title('map2')\r\n",
        "matplotlib.pyplot.show()\r\n",
        "\r\n",
        "matplotlib.pyplot.imshow(map3, cmap='Greys', interpolation = 'None')\r\n",
        "matplotlib.pyplot.title('map3')\r\n",
        "matplotlib.pyplot.show()"
      ],
      "execution_count": null,
      "outputs": [
        {
          "output_type": "display_data",
          "data": {
            "image/png": "[encoded data removed]",
            "text/plain": [
              "<Figure size 432x288 with 1 Axes>"
            ]
          },
          "metadata": {
            "tags": [],
            "needs_background": "light"
          }
        },
        {
          "output_type": "display_data",
          "data": {
            "image/png": "[encoded data removed]",
            "text/plain": [
              "<Figure size 432x288 with 1 Axes>"
            ]
          },
          "metadata": {
            "tags": [],
            "needs_background": "light"
          }
        },
        {
          "output_type": "display_data",
          "data": {
            "image/png": "[encoded data removed]",
            "text/plain": [
              "<Figure size 432x288 with 1 Axes>"
            ]
          },
          "metadata": {
            "tags": [],
            "needs_background": "light"
          }
        }
      ]
    },
    {
      "cell_type": "markdown",
      "metadata": {
        "id": "2LQNN3FwuAub"
      },
      "source": [
        "> 3차 알고리즘 정리\r\n",
        "* 각 데이터에 대하여 하나의 차원을 가지며, 한 차원에는 5*5의 맵이 있음\r\n",
        "\r\n",
        "-----------"
      ]
    },
    {
      "cell_type": "markdown",
      "metadata": {
        "id": "5R6tpEaWmwDD"
      },
      "source": [
        "## 4차 알고리즘 (맵의 최적화)\r\n",
        "> 가중치의 영향을 최소한으로 하기 위해\r\n",
        "* 가중치 층끼리의 상호작용 (역전파?)을 사용\r\n",
        "\r\n",
        "> 가중치의 영향이 줄어들수록 원본 데이터의 특성이 살아날 것으로 봄\r\n",
        "\r\n",
        "> 앞으로의 방향\r\n",
        "* 그냥 여러 번의 연구를 통해 만족스러운 해답을 찾아내고\r\n",
        "* 최종적으로 함수화(클래스화)하여 사용"
      ]
    },
    {
      "cell_type": "code",
      "metadata": {
        "id": "TrbQyMJUmPEo"
      },
      "source": [
        ""
      ],
      "execution_count": null,
      "outputs": []
    },
    {
      "cell_type": "code",
      "metadata": {
        "id": "e40y9uJ0unri"
      },
      "source": [
        ""
      ],
      "execution_count": null,
      "outputs": []
    },
    {
      "cell_type": "code",
      "metadata": {
        "id": "w4PX8B0fmPBR"
      },
      "source": [
        ""
      ],
      "execution_count": null,
      "outputs": []
    },
    {
      "cell_type": "code",
      "metadata": {
        "id": "kCrd4PQZmO9_"
      },
      "source": [
        ""
      ],
      "execution_count": null,
      "outputs": []
    },
    {
      "cell_type": "code",
      "metadata": {
        "id": "cMmhYRkkctse"
      },
      "source": [
        ""
      ],
      "execution_count": null,
      "outputs": []
    },
    {
      "cell_type": "code",
      "metadata": {
        "id": "59Ak09CNctot"
      },
      "source": [
        ""
      ],
      "execution_count": null,
      "outputs": []
    },
    {
      "cell_type": "code",
      "metadata": {
        "id": "jRHYe6mNctmC"
      },
      "source": [
        ""
      ],
      "execution_count": null,
      "outputs": []
    },
    {
      "cell_type": "code",
      "metadata": {
        "id": "0po2jiaxa5Ai"
      },
      "source": [
        ""
      ],
      "execution_count": null,
      "outputs": []
    },
    {
      "cell_type": "code",
      "metadata": {
        "id": "WJSzt0xactEK"
      },
      "source": [
        ""
      ],
      "execution_count": null,
      "outputs": []
    },
    {
      "cell_type": "code",
      "metadata": {
        "id": "UXYMt_7wctAP"
      },
      "source": [
        ""
      ],
      "execution_count": null,
      "outputs": []
    },
    {
      "cell_type": "code",
      "metadata": {
        "id": "uiLoHtCYa4wF"
      },
      "source": [
        ""
      ],
      "execution_count": null,
      "outputs": []
    },
    {
      "cell_type": "code",
      "metadata": {
        "id": "Idf1Wf_5MohP"
      },
      "source": [
        "a, b, c = 10, 20, 10"
      ],
      "execution_count": null,
      "outputs": []
    },
    {
      "cell_type": "code",
      "metadata": {
        "id": "tZyqJ5-M-8U3"
      },
      "source": [
        "히든 노드가 10*10의 배열이 되게 정렬"
      ],
      "execution_count": null,
      "outputs": []
    },
    {
      "cell_type": "code",
      "metadata": {
        "id": "1iyb8R5P-vnA"
      },
      "source": [
        "import numpy\r\n",
        "import scipy.special  # 과학기술 계산 라이브러리\r\n",
        "import matplotlib.pyplot\r\n",
        "%matplotlib inline\r\n",
        "\r\n",
        "\r\n",
        "class SomAlgorithm:\r\n",
        "\r\n",
        "  ##### 신경망 생성\r\n",
        "  def __init__(self, inputnodes, hiddennodes, outputnodes, learningrate):\r\n",
        "\r\n",
        "    # 계층의 노드 개수 결정\r\n",
        "    # 행은 종속변수의 수(X), 열은 독립변수의 수(Y)\r\n",
        "    self.inodes = inputnodes\r\n",
        "    self.hnodes1, self.hnodes2, self.hnodes3  = hiddennodes, hiddennodes, hiddennodes  # 한번에 여러 변수 선언\r\n",
        "\r\n",
        "    self.onodes = outputnodes\r\n",
        "\r\n",
        "    # 가중치\r\n",
        "    self.wih = numpy.random.normal(0.0, pow(self.hnodes, -0.5), (self.hnodes, self.inodes))  # pow() 제곱식으로 행이 많을수록 값이 작아지게 구성\r\n",
        "    self.who = numpy.random.normal(0.0, pow(self.onodes, -0.5), (self.onodes, self.hnodes))\r\n",
        "\r\n",
        "    # 학습률\r\n",
        "    self.lr = learningrate\r\n",
        "\r\n",
        "    # 활성화 함수로 시그모이드 함수를 사용\r\n",
        "    self.activation_function = lambda x: scipy.special.expit(x)  # lambda는 이름이 없는 함수 정의\r\n",
        "\r\n",
        "\r\n",
        "  ### 신경망 학습\r\n",
        "  def train(self, inputs_list, targets_list):\r\n",
        "    inputs = numpy.array(inputs_list, ndmin=2).T  # .T는 행열을 바꿈\r\n",
        "    targets = numpy.array(targets_list, ndmin=2).T\r\n",
        "\r\n",
        "    # 은닉계층 \r\n",
        "    hidden_inputs = numpy.dot(self.wih, inputs)\r\n",
        "    hidden_outputs = self.activation_function(hidden_inputs)\r\n",
        "\r\n",
        "    # 출력 계층\r\n",
        "    final_inputs = numpy.dot(self.who, hidden_outputs)\r\n",
        "    final_outputs = self.activation_function(final_inputs)\r\n",
        "\r\n",
        "    # 오차\r\n",
        "    output_errors = targets - final_outputs\r\n",
        "    # 가중치에 의해 나눈 오차들을 계산\r\n",
        "    hidden_errors = numpy.dot(self.who.T, output_errors)\r\n",
        "\r\n",
        "    # 가중치 업데이트\r\n",
        "    # 은닉, 출력\r\n",
        "    self.who += self.lr * numpy.dot((output_errors*final_outputs*(1.0-final_outputs)), numpy.transpose(hidden_outputs))\r\n",
        "    # 입력, 은닉\r\n",
        "    self.wih += self.lr * numpy.dot((hidden_errors*hidden_outputs*(1.0-hidden_outputs)), numpy.transpose(inputs))\r\n",
        "\r\n",
        "\r\n",
        "  ### 질의 \r\n",
        "  def query(self, inputs_list):\r\n",
        "    # 2차원의 행렬로 변환\r\n",
        "    inputs = numpy.array(inputs_list, ndmin=2).T\r\n",
        "\r\n",
        "    # 은닉계층 \r\n",
        "    hidden_inputs = numpy.dot(self.wih, inputs)\r\n",
        "    hidden_outputs = self.activation_function(hidden_inputs)\r\n",
        "\r\n",
        "    # 출력 계층\r\n",
        "    final_inputs = numpy.dot(self.who, hidden_outputs)\r\n",
        "    final_outputs = self.activation_function(final_inputs)\r\n",
        "\r\n",
        "    return final_outputs"
      ],
      "execution_count": null,
      "outputs": []
    },
    {
      "cell_type": "code",
      "metadata": {
        "id": "FCslaavu-v90"
      },
      "source": [
        ""
      ],
      "execution_count": null,
      "outputs": []
    },
    {
      "cell_type": "code",
      "metadata": {
        "id": "iscnBOfI-wAS"
      },
      "source": [
        ""
      ],
      "execution_count": null,
      "outputs": []
    },
    {
      "cell_type": "code",
      "metadata": {
        "id": "nYnGvPJY-wCt"
      },
      "source": [
        ""
      ],
      "execution_count": null,
      "outputs": []
    },
    {
      "cell_type": "code",
      "metadata": {
        "id": "LlFMHO2q-wFV"
      },
      "source": [
        ""
      ],
      "execution_count": null,
      "outputs": []
    },
    {
      "cell_type": "code",
      "metadata": {
        "id": "kWkTMGb--wHx"
      },
      "source": [
        ""
      ],
      "execution_count": null,
      "outputs": []
    },
    {
      "cell_type": "code",
      "metadata": {
        "id": "jIlmJYPe-wJ8"
      },
      "source": [
        ""
      ],
      "execution_count": null,
      "outputs": []
    },
    {
      "cell_type": "code",
      "metadata": {
        "id": "6Sj-H-XL-wM_"
      },
      "source": [
        ""
      ],
      "execution_count": null,
      "outputs": []
    },
    {
      "cell_type": "code",
      "metadata": {
        "id": "Nd-DrCbC-wPc"
      },
      "source": [
        ""
      ],
      "execution_count": null,
      "outputs": []
    }
  ]
}