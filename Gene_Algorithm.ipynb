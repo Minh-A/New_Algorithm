{
  "nbformat": 4,
  "nbformat_minor": 0,
  "metadata": {
    "colab": {
      "name": "유전자 알고리즘_깃허브.ipynb",
      "provenance": [],
      "collapsed_sections": [],
      "authorship_tag": "ABX9TyPzeTJ3MlpjG6e5QRi7owvi",
      "include_colab_link": true
    },
    "kernelspec": {
      "name": "python3",
      "display_name": "Python 3"
    },
    "accelerator": "GPU"
  },
  "cells": [
    {
      "cell_type": "markdown",
      "metadata": {
        "id": "view-in-github",
        "colab_type": "text"
      },
      "source": [
        "<a href=\"https://colab.research.google.com/github/Minh-A/New_Algorithm/blob/main/Gene_Algorithm.ipynb\" target=\"_parent\"><img src=\"https://colab.research.google.com/assets/colab-badge.svg\" alt=\"Open In Colab\"/></a>"
      ]
    },
    {
      "cell_type": "markdown",
      "metadata": {
        "id": "tbEUQJSP17ei"
      },
      "source": [
        "# 유전자 알고리즘\r\n",
        "* K-Means 클러스터링이 메인이 되어 자유전자를 생성"
      ]
    },
    {
      "cell_type": "code",
      "metadata": {
        "id": "_RHlb44U1586"
      },
      "source": [
        "import pandas as pd\r\n",
        "import numpy as np\r\n",
        "import os\r\n",
        "import glob\r\n",
        "import random\r\n",
        "\r\n",
        "import warnings\r\n",
        "warnings.filterwarnings(\"ignore\")\r\n",
        "\r\n",
        "train = glob.glob('/content/drive/MyDrive/Colab Notebooks/Auto_Analisys/file/*.csv')\r\n",
        "temp = pd.read_csv(train[6], encoding='cp949', index_col= 'Unnamed: 0')\r\n",
        "dataset = temp.iloc[0:40]\r\n",
        "dataset = dataset.loc[::-1].reset_index(drop = True)  # 위아래 뒤집기(날짜 뒤집기)\r\n",
        "da = dataset.iloc[:,[2,3,4,6,7,8]]\r\n",
        "\r\n",
        "# K-Means 모델\r\n",
        "from sklearn.cluster import KMeans\r\n",
        "import matplotlib.pyplot  as plt\r\n",
        "\r\n",
        "k = 3\r\n",
        "# create model and prediction\r\n",
        "model = KMeans(n_clusters=k, algorithm='elkan')\r\n",
        "model.fit(da)\r\n",
        "predict = pd.DataFrame(model.predict(da))\r\n",
        "predict.columns=['predict']\r\n",
        "\r\n",
        "final_da = pd.DataFrame(np.hstack((predict, da)))\r\n"
      ],
      "execution_count": null,
      "outputs": []
    },
    {
      "cell_type": "code",
      "metadata": {
        "id": "5g9a422D1l1h"
      },
      "source": [
        "# 유전자 알고리즘 210117\r\n",
        "# 첫 번째 모듈\r\n",
        "import random\r\n",
        "import copy\r\n",
        "\r\n",
        "k_result = 2  # K-Means 결과 정하기\r\n",
        "aaa =  copy.deepcopy(final_da.iloc[39,1:])  # 시작행 초기화 (코드 실행시 마다)\r\n",
        "branch = 1  # 나뭇가지\r\n",
        "child = pd.DataFrame()  # 생존한 아이들\r\n",
        "\r\n",
        "\r\n",
        "while 1:  # 1은 무한반복을 의미\r\n",
        "\r\n",
        "  # 100개의 유전자 생성\r\n",
        "  for i in range(100):\r\n",
        "\r\n",
        "    # 교차할 유전자군 (랜덤)\r\n",
        "    ge_fa = random.randint(0,2)  # 유전자군 랜덤\r\n",
        "    ge_fadata = final_da.loc[final_da.iloc[:,0] == ge_fa,1:].reset_index(drop = True)  # 유전자 군\r\n",
        "\r\n",
        "    # 유전자와 속성 선택\r\n",
        "    ge_num = random.randint(0,len(ge_fadata) - 1)  # 행 선택(유전자 선택)\r\n",
        "    ge_sel1 = random.randint(1,2)  # 속성 선택\r\n",
        "    ge_sel2 = random.randint(3,4)\r\n",
        "    ge_sel3 = random.randint(5,6)\r\n",
        "    ge_sel = list([ge_sel1, ge_sel2, ge_sel3])\r\n",
        "    sel = ge_fadata.loc[ge_num, ge_sel]  # 선택된 행렬에 대한 \r\n",
        "\r\n",
        "    # 정상 유전자 교차\r\n",
        "    aaa.loc[ge_sel] = sel.values\r\n",
        "\r\n",
        "    # 돌연변이 생성 (유전자 1회 생성마다 30% 확률로 돌연변이 등장)\r\n",
        "    if random.random() <= 0.3:\r\n",
        "      mutation1 = random.randint(ge_fadata.loc[:,ge_sel1].min(), ge_fadata.loc[:,ge_sel1].max())\r\n",
        "      mutation2 = random.randint(ge_fadata.loc[:,ge_sel2].min(), ge_fadata.loc[:,ge_sel2].max())\r\n",
        "      mutation3 = random.randint(ge_fadata.loc[:,ge_sel3].min(), ge_fadata.loc[:,ge_sel3].max())\r\n",
        "      mutation = list([mutation1, mutation2, mutation3])\r\n",
        "      aaa.loc[ge_sel] = mutation\r\n",
        "    \r\n",
        "    # 생성된 아이들\r\n",
        "    child = child.append(aaa)\r\n",
        "\r\n",
        "  # 생성된 아이들로 모델 예측\r\n",
        "  predict = pd.DataFrame(model.predict(child))\r\n",
        "\r\n",
        "  # 살아남은 아이들 랜덤 하나만 생존\r\n",
        "  child2 = pd.DataFrame(np.hstack((predict, child)))\r\n",
        "  child = child2.loc[child2[0] == k_result, :].iloc[:,1:]  # 원하던 결과랑 같은 것들\r\n",
        "\r\n",
        "  # 나뭇가지 표시\r\n",
        "  print('%s branch' % branch)\r\n",
        "  branch += 1\r\n",
        "  \r\n",
        "  # 1000명만 생성하고 전체 반복문 종료\r\n",
        "  # print('중복 행: ',child[child.duplicated()])  # 중복행 찾기\r\n",
        "  child = child.drop_duplicates()  # 중복 행 제거\r\n",
        "\r\n",
        "  child = child.reset_index(drop = True)\r\n",
        "\r\n",
        "  if len(child) >= 1000:\r\n",
        "    break\r\n",
        "\r\n",
        "# 생성된 아이들 확인\r\n",
        "child"
      ],
      "execution_count": null,
      "outputs": []
    },
    {
      "cell_type": "code",
      "metadata": {
        "id": "4NOHEr4h1uMe"
      },
      "source": [
        ""
      ],
      "execution_count": null,
      "outputs": []
    },
    {
      "cell_type": "code",
      "metadata": {
        "id": "YGCHYWHR1uQ0"
      },
      "source": [
        ""
      ],
      "execution_count": null,
      "outputs": []
    },
    {
      "cell_type": "code",
      "metadata": {
        "id": "N4tBSZQ61uTO"
      },
      "source": [
        ""
      ],
      "execution_count": null,
      "outputs": []
    },
    {
      "cell_type": "code",
      "metadata": {
        "id": "Opq-pnqj1uVn"
      },
      "source": [
        ""
      ],
      "execution_count": null,
      "outputs": []
    },
    {
      "cell_type": "code",
      "metadata": {
        "id": "BpoOuxBU1uYO"
      },
      "source": [
        ""
      ],
      "execution_count": null,
      "outputs": []
    }
  ]
}