{
  "nbformat": 4,
  "nbformat_minor": 0,
  "metadata": {
    "colab": {
      "name": "SOM_Algorithm_github.ipynb",
      "provenance": [],
      "collapsed_sections": [],
      "authorship_tag": "ABX9TyNMyLFbGOx3wM+/eW3VJkD9",
      "include_colab_link": true
    },
    "kernelspec": {
      "name": "python3",
      "display_name": "Python 3"
    },
    "accelerator": "GPU"
  },
  "cells": [
    {
      "cell_type": "markdown",
      "metadata": {
        "id": "view-in-github",
        "colab_type": "text"
      },
      "source": [
        "<a href=\"https://colab.research.google.com/github/Minh-A/New_Algorithm/blob/main/SOM_Algorithm_Beta1.ipynb\" target=\"_parent\"><img src=\"https://colab.research.google.com/assets/colab-badge.svg\" alt=\"Open In Colab\"/></a>"
      ]
    },
    {
      "cell_type": "markdown",
      "metadata": {
        "id": "NPgeh4B__hHk"
      },
      "source": [
        "# SOM_Algorithm\r\n",
        "* https://dryjelly.tistory.com/69"
      ]
    },
    {
      "cell_type": "code",
      "metadata": {
        "id": "FN4ju0qD-9om"
      },
      "source": [
        "import numpy\r\n",
        "import scipy.special  # 과학기술 계산 라이브러리\r\n",
        "import matplotlib.pyplot\r\n",
        "%matplotlib inline"
      ],
      "execution_count": 1,
      "outputs": []
    },
    {
      "cell_type": "code",
      "metadata": {
        "colab": {
          "base_uri": "https://localhost:8080/"
        },
        "id": "zTcmbGUY_TeB",
        "outputId": "16c5ecfb-6e5a-41dc-902a-52b2aaec7a94"
      },
      "source": [
        "pow(2, -0.5)"
      ],
      "execution_count": 39,
      "outputs": [
        {
          "output_type": "execute_result",
          "data": {
            "text/plain": [
              "0.7071067811865476"
            ]
          },
          "metadata": {
            "tags": []
          },
          "execution_count": 39
        }
      ]
    },
    {
      "cell_type": "code",
      "metadata": {
        "colab": {
          "base_uri": "https://localhost:8080/"
        },
        "id": "KkeZbJ-5-8cQ",
        "outputId": "2b2c48f3-e62a-4d50-d544-b834fc0508aa"
      },
      "source": [
        "numpy.random.normal(0.0, 10.0, (5,3))"
      ],
      "execution_count": 5,
      "outputs": [
        {
          "output_type": "execute_result",
          "data": {
            "text/plain": [
              "array([[ -1.5141199 ,  20.23473852,   4.33138858],\n",
              "       [ -5.00945921,   6.15480433,   7.18210458],\n",
              "       [  3.57939687,   2.60224985,  -9.92348925],\n",
              "       [-11.73637117,  -8.30249873,   4.96612643],\n",
              "       [  2.58606257, -12.16945372, -18.51348104]])"
            ]
          },
          "metadata": {
            "tags": []
          },
          "execution_count": 5
        }
      ]
    },
    {
      "cell_type": "code",
      "metadata": {
        "id": "nERehCBzHRdS"
      },
      "source": [
        "a = numpy.random.normal(0.0, 1, (5,7))\r\n",
        "b = numpy.random.normal(0.0, 1, (7,3))"
      ],
      "execution_count": 85,
      "outputs": []
    },
    {
      "cell_type": "code",
      "metadata": {
        "colab": {
          "base_uri": "https://localhost:8080/"
        },
        "id": "B2l1xtZnfj_L",
        "outputId": "150fdf6e-b8d0-407f-bd2f-80d0aabd57d0"
      },
      "source": [
        "# 인풋 - 메인 데이터\r\n",
        "a1 = numpy.array(a, ndmin=2).T\r\n",
        "a1"
      ],
      "execution_count": 86,
      "outputs": [
        {
          "output_type": "execute_result",
          "data": {
            "text/plain": [
              "array([[ 1.16502789,  0.59840992,  1.07668328, -0.34080241,  0.76187269],\n",
              "       [ 0.17856936,  0.73188795,  0.89282009,  0.74028401,  0.64431134],\n",
              "       [ 0.10633173, -0.20910395, -1.46434783, -0.11751565,  0.35506919],\n",
              "       [-0.26017812, -1.82225194,  0.37209483, -0.21709009, -0.19880067],\n",
              "       [-0.8844693 , -0.17747082, -0.6415043 , -0.41996264,  0.32738046],\n",
              "       [-0.8517749 ,  0.42475697, -1.15457105,  0.40600643,  0.41970266],\n",
              "       [ 0.81558958,  0.27257521, -1.36873697,  0.95318652,  1.79199938]])"
            ]
          },
          "metadata": {
            "tags": []
          },
          "execution_count": 86
        }
      ]
    },
    {
      "cell_type": "code",
      "metadata": {
        "colab": {
          "base_uri": "https://localhost:8080/"
        },
        "id": "yHpd79EZfj8F",
        "outputId": "0d54d15d-89d5-4c77-fc53-79c54baaed0e"
      },
      "source": [
        "# 가중치\r\n",
        "b "
      ],
      "execution_count": 87,
      "outputs": [
        {
          "output_type": "execute_result",
          "data": {
            "text/plain": [
              "array([[-1.00650468,  0.39997112, -0.354934  ],\n",
              "       [-1.70297626, -0.40196958, -0.30304011],\n",
              "       [ 0.10479262, -0.60664673,  0.15496684],\n",
              "       [ 0.26035223, -1.41698153,  0.11468826],\n",
              "       [-3.53432176,  0.47204488, -0.35969093],\n",
              "       [ 1.05620641,  1.60945556, -0.1098982 ],\n",
              "       [ 0.25053944,  0.3544352 , -1.36697335]])"
            ]
          },
          "metadata": {
            "tags": []
          },
          "execution_count": 87
        }
      ]
    },
    {
      "cell_type": "code",
      "metadata": {
        "colab": {
          "base_uri": "https://localhost:8080/"
        },
        "id": "_XvdNvftfTuv",
        "outputId": "0ad1b79b-6d32-4db8-a267-d96123d923e6"
      },
      "source": [
        "numpy.dot(a,b)"
      ],
      "execution_count": 89,
      "outputs": [
        {
          "output_type": "execute_result",
          "data": {
            "text/plain": [
              "array([[ 0.89738576, -0.80096955, -1.18412828],\n",
              "       [-1.20086926,  3.35056308, -1.03103095],\n",
              "       [-1.95582063, -2.21333214,  1.39169328],\n",
              "       [ 1.16541897,  0.7380713 , -1.34302529],\n",
              "       [-2.14343361,  1.57720754, -3.0469386 ]])"
            ]
          },
          "metadata": {
            "tags": []
          },
          "execution_count": 89
        }
      ]
    },
    {
      "cell_type": "code",
      "metadata": {
        "colab": {
          "base_uri": "https://localhost:8080/"
        },
        "id": "bm0BMVotL9gm",
        "outputId": "9f278ea3-15a2-491c-daab-1c1d07f5f7c7"
      },
      "source": [
        "numpy.array(a, ndmin=2).T"
      ],
      "execution_count": 47,
      "outputs": [
        {
          "output_type": "execute_result",
          "data": {
            "text/plain": [
              "array([[ 0.83596732, -1.24036641,  0.92021234],\n",
              "       [ 1.28779978,  1.60475258,  0.59477777]])"
            ]
          },
          "metadata": {
            "tags": []
          },
          "execution_count": 47
        }
      ]
    },
    {
      "cell_type": "code",
      "metadata": {
        "colab": {
          "base_uri": "https://localhost:8080/"
        },
        "id": "aHZgfIgBwfPa",
        "outputId": "1f0e22fb-968f-42b9-afca-0e48c4eb9aa3"
      },
      "source": [
        "a"
      ],
      "execution_count": 93,
      "outputs": [
        {
          "output_type": "execute_result",
          "data": {
            "text/plain": [
              "array([[ 1.16502789,  0.17856936,  0.10633173, -0.26017812, -0.8844693 ,\n",
              "        -0.8517749 ,  0.81558958],\n",
              "       [ 0.59840992,  0.73188795, -0.20910395, -1.82225194, -0.17747082,\n",
              "         0.42475697,  0.27257521],\n",
              "       [ 1.07668328,  0.89282009, -1.46434783,  0.37209483, -0.6415043 ,\n",
              "        -1.15457105, -1.36873697],\n",
              "       [-0.34080241,  0.74028401, -0.11751565, -0.21709009, -0.41996264,\n",
              "         0.40600643,  0.95318652],\n",
              "       [ 0.76187269,  0.64431134,  0.35506919, -0.19880067,  0.32738046,\n",
              "         0.41970266,  1.79199938]])"
            ]
          },
          "metadata": {
            "tags": []
          },
          "execution_count": 93
        }
      ]
    },
    {
      "cell_type": "code",
      "metadata": {
        "colab": {
          "base_uri": "https://localhost:8080/"
        },
        "id": "dE5MBlJce7ST",
        "outputId": "b15ba195-e13f-45e2-9826-03fa840805dd"
      },
      "source": [
        "numpy.transpose(a)"
      ],
      "execution_count": 90,
      "outputs": [
        {
          "output_type": "execute_result",
          "data": {
            "text/plain": [
              "array([[ 1.16502789,  0.59840992,  1.07668328, -0.34080241,  0.76187269],\n",
              "       [ 0.17856936,  0.73188795,  0.89282009,  0.74028401,  0.64431134],\n",
              "       [ 0.10633173, -0.20910395, -1.46434783, -0.11751565,  0.35506919],\n",
              "       [-0.26017812, -1.82225194,  0.37209483, -0.21709009, -0.19880067],\n",
              "       [-0.8844693 , -0.17747082, -0.6415043 , -0.41996264,  0.32738046],\n",
              "       [-0.8517749 ,  0.42475697, -1.15457105,  0.40600643,  0.41970266],\n",
              "       [ 0.81558958,  0.27257521, -1.36873697,  0.95318652,  1.79199938]])"
            ]
          },
          "metadata": {
            "tags": []
          },
          "execution_count": 90
        }
      ]
    },
    {
      "cell_type": "markdown",
      "metadata": {
        "id": "S5PcGJhfw7Gp"
      },
      "source": [
        "# 히든 노드의 정렬"
      ]
    },
    {
      "cell_type": "code",
      "metadata": {
        "id": "iaxZqbzExKGJ"
      },
      "source": [
        "# 10개의 데이터와 5개의 속성\r\n",
        "input = numpy.random.normal(3.0, 5.0, (10,5))"
      ],
      "execution_count": 114,
      "outputs": []
    },
    {
      "cell_type": "code",
      "metadata": {
        "id": "MWLuktk4wmgm"
      },
      "source": [
        "# 데이터의 행의 숫자와 열의 숫자가 같아야 행렬 곱셈이 이루어짐\r\n",
        "a = numpy.random.normal(0.0, 1.0, (10,10))\r\n",
        "b = numpy.random.normal(0.0, 1.0, (10,10))\r\n",
        "c = numpy.random.normal(0.0, 1.0, (10,10))"
      ],
      "execution_count": 119,
      "outputs": []
    },
    {
      "cell_type": "code",
      "metadata": {
        "colab": {
          "base_uri": "https://localhost:8080/"
        },
        "id": "i09WD76gxHP7",
        "outputId": "99a412c3-5577-4eee-f1e8-f55d950ef1d4"
      },
      "source": [
        "numpy.dot(a,input)"
      ],
      "execution_count": 99,
      "outputs": [
        {
          "output_type": "execute_result",
          "data": {
            "text/plain": [
              "array([[  2.90318259,   4.70394806,   4.67541153,  -1.88315165,\n",
              "         11.3609838 ],\n",
              "       [  1.63253788,  -3.84848573,  -8.21101998, -13.00249296,\n",
              "          5.05383832],\n",
              "       [ -8.7061166 ,   3.26908695, -12.24355953, -10.76812544,\n",
              "        -12.02028813]])"
            ]
          },
          "metadata": {
            "tags": []
          },
          "execution_count": 99
        }
      ]
    },
    {
      "cell_type": "code",
      "metadata": {
        "colab": {
          "base_uri": "https://localhost:8080/"
        },
        "id": "dJ8vxQG3xgqO",
        "outputId": "afa00475-04ee-489d-f585-294a78a1ea11"
      },
      "source": [
        "numpy.max(a)"
      ],
      "execution_count": 100,
      "outputs": [
        {
          "output_type": "execute_result",
          "data": {
            "text/plain": [
              "0.7538513570337769"
            ]
          },
          "metadata": {
            "tags": []
          },
          "execution_count": 100
        }
      ]
    },
    {
      "cell_type": "code",
      "metadata": {
        "colab": {
          "base_uri": "https://localhost:8080/"
        },
        "id": "Ig0Xqk2ExAu5",
        "outputId": "b05058d3-ea56-4573-b5f5-87642054ecc7"
      },
      "source": [
        "a"
      ],
      "execution_count": 101,
      "outputs": [
        {
          "output_type": "execute_result",
          "data": {
            "text/plain": [
              "array([[ 0.75385136,  0.50574845, -1.0694053 ],\n",
              "       [-1.4693521 , -0.36025953, -1.36918589],\n",
              "       [-0.21625961, -1.66135918, -0.29069092]])"
            ]
          },
          "metadata": {
            "tags": []
          },
          "execution_count": 101
        }
      ]
    },
    {
      "cell_type": "code",
      "metadata": {
        "colab": {
          "base_uri": "https://localhost:8080/"
        },
        "id": "N6cY_b63yAT5",
        "outputId": "ef91ec1a-148f-4344-a296-25691d3d7f6a"
      },
      "source": [
        "numpy.min(a)"
      ],
      "execution_count": 107,
      "outputs": [
        {
          "output_type": "execute_result",
          "data": {
            "text/plain": [
              "-1.6613591764173676"
            ]
          },
          "metadata": {
            "tags": []
          },
          "execution_count": 107
        }
      ]
    },
    {
      "cell_type": "code",
      "metadata": {
        "colab": {
          "base_uri": "https://localhost:8080/"
        },
        "id": "TAzJjylxwmZ3",
        "outputId": "edcbfb16-4330-41f5-a920-8efb85344eeb"
      },
      "source": [
        "numpy.argmin(a)"
      ],
      "execution_count": 106,
      "outputs": [
        {
          "output_type": "execute_result",
          "data": {
            "text/plain": [
              "7"
            ]
          },
          "metadata": {
            "tags": []
          },
          "execution_count": 106
        }
      ]
    },
    {
      "cell_type": "code",
      "metadata": {
        "id": "O_gTrDm0yG2I"
      },
      "source": [
        "import numpy as np\r\n",
        "node1 = np.dot(a,input)\r\n",
        "node2 = np.dot(b, node1)\r\n",
        "node3 = np.dot(c, node2)"
      ],
      "execution_count": 120,
      "outputs": []
    },
    {
      "cell_type": "code",
      "metadata": {
        "colab": {
          "base_uri": "https://localhost:8080/"
        },
        "id": "pKvZOmLVyZmI",
        "outputId": "f583d1d3-144f-4b78-b9d7-e5d02fd92d18"
      },
      "source": [
        "node3.shape"
      ],
      "execution_count": 121,
      "outputs": [
        {
          "output_type": "execute_result",
          "data": {
            "text/plain": [
              "(10, 5)"
            ]
          },
          "metadata": {
            "tags": []
          },
          "execution_count": 121
        }
      ]
    },
    {
      "cell_type": "code",
      "metadata": {
        "colab": {
          "base_uri": "https://localhost:8080/"
        },
        "id": "Tg5wMFJNyGu5",
        "outputId": "2255b502-a76d-4064-f211-08a1f976bbc7"
      },
      "source": [
        "node3"
      ],
      "execution_count": 122,
      "outputs": [
        {
          "output_type": "execute_result",
          "data": {
            "text/plain": [
              "array([[ 148.11732276, -253.6439071 ,  117.89785172, -182.11769318,\n",
              "        -410.77441443],\n",
              "       [ -64.86163931,  -23.53491172,   44.52236072,   34.11911714,\n",
              "        -178.27862573],\n",
              "       [ 123.23388065,   21.42981075,   21.65345503,  109.75414445,\n",
              "          38.43389388],\n",
              "       [ -24.54179093,  -70.0030453 , -321.10996399,  -19.36620827,\n",
              "          49.68315617],\n",
              "       [-187.31769836, -145.60155543, -550.71593649,  -97.52039544,\n",
              "         201.4357727 ],\n",
              "       [ -19.74646174,  -85.08727883,  148.22509652,  -93.4794871 ,\n",
              "        -236.91733869],\n",
              "       [-233.33762969,  -44.51552469, -290.99709691, -130.15683842,\n",
              "          74.31897544],\n",
              "       [ -58.83428817, -104.8266641 , -243.86468042,    2.93936233,\n",
              "        -165.20974803],\n",
              "       [ 135.98321944, -364.07575846,  197.17185904, -125.04123328,\n",
              "        -659.91958685],\n",
              "       [-116.86893832, -195.16040488, -186.93193052, -124.06525571,\n",
              "        -266.99890133]])"
            ]
          },
          "metadata": {
            "tags": []
          },
          "execution_count": 122
        }
      ]
    },
    {
      "cell_type": "markdown",
      "metadata": {
        "id": "HMRK2K0o0DjJ"
      },
      "source": [
        "> 넘파이 다차원을 1차원으로\r\n",
        "* https://rfriend.tistory.com/349\r\n",
        "\r\n",
        "> Numpy 랜덤 함수\r\n",
        "* https://codetorial.net/numpy/random.html"
      ]
    },
    {
      "cell_type": "code",
      "metadata": {
        "colab": {
          "base_uri": "https://localhost:8080/",
          "height": 265
        },
        "id": "oE3yk4SU0cz3",
        "outputId": "67e96c88-59d0-4025-8315-11fe04d11e92"
      },
      "source": [
        "import matplotlib.pyplot\r\n",
        "matplotlib.pyplot.imshow(node3, cmap='Greys', interpolation = 'None')\r\n",
        "matplotlib.pyplot.show()"
      ],
      "execution_count": 127,
      "outputs": [
        {
          "output_type": "display_data",
          "data": {
            "image/png": "[encoded data removed]",
            "text/plain": [
              "<Figure size 432x288 with 1 Axes>"
            ]
          },
          "metadata": {
            "tags": [],
            "needs_background": "light"
          }
        }
      ]
    },
    {
      "cell_type": "code",
      "metadata": {
        "colab": {
          "base_uri": "https://localhost:8080/"
        },
        "id": "tImawRAILlSj",
        "outputId": "e8bc2064-561a-417d-d2da-265266244691"
      },
      "source": [
        "numpy.random.normal(1,0.5,(3,4))"
      ],
      "execution_count": 137,
      "outputs": [
        {
          "output_type": "execute_result",
          "data": {
            "text/plain": [
              "array([[1.34893316, 0.88662942, 0.49024888, 0.86580502],\n",
              "       [1.12625885, 1.56889428, 0.22235336, 1.34163862],\n",
              "       [0.70967758, 0.4417164 , 0.92986129, 1.52712217]])"
            ]
          },
          "metadata": {
            "tags": []
          },
          "execution_count": 137
        }
      ]
    },
    {
      "cell_type": "code",
      "metadata": {
        "colab": {
          "base_uri": "https://localhost:8080/"
        },
        "id": "8j4k8ogkK5Rv",
        "outputId": "1b11155d-c169-4aed-d4c4-561b29aa9387"
      },
      "source": [
        "# 0과 1 사이의 랜덤수를 생성\r\n",
        "np.random.random_sample((3,5))"
      ],
      "execution_count": 134,
      "outputs": [
        {
          "output_type": "execute_result",
          "data": {
            "text/plain": [
              "array([[0.12425715, 0.52057922, 0.56861972, 0.61885505, 0.1928625 ],\n",
              "       [0.2550657 , 0.66525464, 0.55672507, 0.01948603, 0.51024088],\n",
              "       [0.63730024, 0.37191668, 0.94955636, 0.12856754, 0.11566241]])"
            ]
          },
          "metadata": {
            "tags": []
          },
          "execution_count": 134
        }
      ]
    },
    {
      "cell_type": "markdown",
      "metadata": {
        "id": "jIibOP2pMuoi"
      },
      "source": [
        "> 알고리즘의 형태\r\n",
        "* 한 행이 하나의 데이터\r\n",
        "* 열은 그 데이터에 대한 속성\r\n",
        "* 속성으로 위치를 어떻게 나누지\r\n",
        "\r\n",
        "> 비지도 학습\r\n",
        "* 비지도 학습이므로\r\n",
        "* 흠흠 그냥 임마가 위치를 찾을 수 있도록\r\n",
        "* 하나하나의 값마다?"
      ]
    },
    {
      "cell_type": "code",
      "metadata": {
        "id": "5IpV7ZhML9Gk"
      },
      "source": [
        "np.random.seed(3)\r\n",
        "\r\n",
        "# 5개의 데이터와 3개의 속성\r\n",
        "input = numpy.random.normal(3.0, 5.0, 5)\r\n",
        "\r\n",
        "# 데이터의 행의 숫자와 열의 숫자가 같아야 행렬 곱셈이 이루어짐\r\n",
        "a = numpy.random.normal(1.0, 0.5, (5,5))\r\n",
        "b = numpy.random.normal(1.0, 0.5, (5,5))\r\n",
        "c = numpy.random.normal(1.0, 0.5, (5,5))"
      ],
      "execution_count": 271,
      "outputs": []
    },
    {
      "cell_type": "code",
      "metadata": {
        "id": "6gnFsI8ZL83p"
      },
      "source": [
        "# 계산 수행\r\n",
        "import numpy as np\r\n",
        "node1 = np.dot(a, input)\r\n",
        "node2 = np.dot(b, node1)\r\n",
        "node3 = np.dot(c, node2)"
      ],
      "execution_count": 272,
      "outputs": []
    },
    {
      "cell_type": "code",
      "metadata": {
        "colab": {
          "base_uri": "https://localhost:8080/"
        },
        "id": "jhZl2zYpxz_o",
        "outputId": "87c0ceff-b08a-465d-eeb1-eba9f9991fdd"
      },
      "source": [
        "node3"
      ],
      "execution_count": 273,
      "outputs": [
        {
          "output_type": "execute_result",
          "data": {
            "text/plain": [
              "array([ 92.89735621, 257.97872572, 286.7961702 , 247.14654141,\n",
              "       276.59170321])"
            ]
          },
          "metadata": {
            "tags": []
          },
          "execution_count": 273
        }
      ]
    },
    {
      "cell_type": "code",
      "metadata": {
        "colab": {
          "base_uri": "https://localhost:8080/"
        },
        "id": "uSFg_SdZPayK",
        "outputId": "e88bcfc8-5930-4f10-ef4c-73abf6fab0a1"
      },
      "source": [
        "input"
      ],
      "execution_count": 274,
      "outputs": [
        {
          "output_type": "execute_result",
          "data": {
            "text/plain": [
              "array([11.94314237,  5.18254925,  3.48248734, -6.31746352,  1.61305899])"
            ]
          },
          "metadata": {
            "tags": []
          },
          "execution_count": 274
        }
      ]
    },
    {
      "cell_type": "markdown",
      "metadata": {
        "id": "7eAw2QYscbOt"
      },
      "source": [
        "## 1차 알고리즘 "
      ]
    },
    {
      "cell_type": "markdown",
      "metadata": {
        "id": "AknkXv-WZzq7"
      },
      "source": [
        "> 노드 안에는 데이터와 그 특성이 들어가는 것이 아닌\r\n",
        "* 데이터의 특성이 한 행으로 줄지어 들어감!!!!\r\n",
        "* 각 독립적인 데이터 들은 열로 줄지어 있음\r\n",
        "\r\n",
        "> 따라서 데이터는 들어가면서 행과 열이 서로 바뀜!!!"
      ]
    },
    {
      "cell_type": "code",
      "metadata": {
        "id": "M47ZMn2_et1S"
      },
      "source": [
        "# 예시로 1개의 데이터와 3*3의 맵\r\n",
        "# 2개의 데이터는 2개의 속성을 가짐\r\n",
        "\r\n",
        "input = numpy.random.normal(3.0, 5.0, (2,2))\r\n",
        "input = input.T  # 행과 열을 바꾸어서 한 데이터의 속성 값이 노드로 들어감\r\n",
        "\r\n",
        "\r\n",
        "# 가중치\r\n",
        "w1 = numpy.random.normal(1.0, 0.5, (3,2))"
      ],
      "execution_count": 275,
      "outputs": []
    },
    {
      "cell_type": "markdown",
      "metadata": {
        "id": "wSnyPhHfY23g"
      },
      "source": [
        "> 행렬 곱셈에 따라\r\n",
        "* 들어가는 인풋은 열을, 노드는 행을 담당\r\n",
        "* (노드 수, 인풋 데이터 수)"
      ]
    },
    {
      "cell_type": "code",
      "metadata": {
        "id": "HtlCIcViTunm"
      },
      "source": [
        "# 계산 수행\r\n",
        "# 결론적으로 노드가 행으로 나오고 데이터는 열로 나오도록 구성\r\n",
        "# 행렬 곱셈에서 노드가 앞에 들어가는 데이터가 뒤로 두기\r\n",
        "import numpy as np\r\n",
        "node1 = np.dot(w1, input)\r\n",
        "\r\n"
      ],
      "execution_count": 276,
      "outputs": []
    },
    {
      "cell_type": "code",
      "metadata": {
        "colab": {
          "base_uri": "https://localhost:8080/"
        },
        "id": "3cIPpIdTWHkh",
        "outputId": "2687c82e-5606-4fa8-ce7a-790f9f99060d"
      },
      "source": [
        "node1"
      ],
      "execution_count": 277,
      "outputs": [
        {
          "output_type": "execute_result",
          "data": {
            "text/plain": [
              "array([[ 2.50833934,  4.62648506],\n",
              "       [-1.47707618,  5.33621863],\n",
              "       [ 3.91976855, -3.39096996]])"
            ]
          },
          "metadata": {
            "tags": []
          },
          "execution_count": 277
        }
      ]
    },
    {
      "cell_type": "code",
      "metadata": {
        "colab": {
          "base_uri": "https://localhost:8080/"
        },
        "id": "2MYWlYSe00hz",
        "outputId": "242de57c-9ece-40b2-9a29-183480ef6c1f"
      },
      "source": [
        "node1.shape"
      ],
      "execution_count": 278,
      "outputs": [
        {
          "output_type": "execute_result",
          "data": {
            "text/plain": [
              "(3, 2)"
            ]
          },
          "metadata": {
            "tags": []
          },
          "execution_count": 278
        }
      ]
    },
    {
      "cell_type": "code",
      "metadata": {
        "colab": {
          "base_uri": "https://localhost:8080/"
        },
        "id": "qF3DXqveWJLG",
        "outputId": "09ac6906-47c4-475f-b99f-67175ea0225b"
      },
      "source": [
        "# 따라서 가장 큰 값을 뽑으려면\r\n",
        "# 다시 행렬을 바꾸어 뽑기\r\n",
        "\r\n",
        "print(\"1번째 데이터의 웨이트값은 %s 번째 가 가장 큼\" % (np.argmax(node1.T[0])+1))\r\n",
        "print(\"2번째 데이터의 웨이트값은 %s 번째 가 가장 큼\" % (np.argmax(node1.T[1])+1))"
      ],
      "execution_count": 279,
      "outputs": [
        {
          "output_type": "stream",
          "text": [
            "1번째 데이터의 웨이트값은 3 번째 가 가장 큼\n",
            "2번째 데이터의 웨이트값은 2 번째 가 가장 큼\n"
          ],
          "name": "stdout"
        }
      ]
    },
    {
      "cell_type": "markdown",
      "metadata": {
        "id": "ZCOsfZchcikA"
      },
      "source": [
        "> 1차 완성\r\n",
        "--------"
      ]
    },
    {
      "cell_type": "code",
      "metadata": {
        "id": "-G6GW4orcuGa"
      },
      "source": [
        ""
      ],
      "execution_count": null,
      "outputs": []
    },
    {
      "cell_type": "code",
      "metadata": {
        "id": "Krsb5PRBcuA4"
      },
      "source": [
        ""
      ],
      "execution_count": null,
      "outputs": []
    },
    {
      "cell_type": "code",
      "metadata": {
        "id": "2-K0oLT0ct5a"
      },
      "source": [
        ""
      ],
      "execution_count": null,
      "outputs": []
    },
    {
      "cell_type": "code",
      "metadata": {
        "id": "I_o-XqE9ctyF"
      },
      "source": [
        ""
      ],
      "execution_count": null,
      "outputs": []
    },
    {
      "cell_type": "code",
      "metadata": {
        "id": "cMmhYRkkctse"
      },
      "source": [
        ""
      ],
      "execution_count": null,
      "outputs": []
    },
    {
      "cell_type": "code",
      "metadata": {
        "id": "59Ak09CNctot"
      },
      "source": [
        ""
      ],
      "execution_count": null,
      "outputs": []
    },
    {
      "cell_type": "code",
      "metadata": {
        "id": "jRHYe6mNctmC"
      },
      "source": [
        ""
      ],
      "execution_count": null,
      "outputs": []
    },
    {
      "cell_type": "code",
      "metadata": {
        "id": "0po2jiaxa5Ai"
      },
      "source": [
        ""
      ],
      "execution_count": null,
      "outputs": []
    },
    {
      "cell_type": "code",
      "metadata": {
        "id": "WJSzt0xactEK"
      },
      "source": [
        ""
      ],
      "execution_count": null,
      "outputs": []
    },
    {
      "cell_type": "code",
      "metadata": {
        "id": "UXYMt_7wctAP"
      },
      "source": [
        ""
      ],
      "execution_count": null,
      "outputs": []
    },
    {
      "cell_type": "code",
      "metadata": {
        "id": "uiLoHtCYa4wF"
      },
      "source": [
        ""
      ],
      "execution_count": null,
      "outputs": []
    },
    {
      "cell_type": "code",
      "metadata": {
        "id": "Idf1Wf_5MohP"
      },
      "source": [
        "a, b, c = 10, 20, 10"
      ],
      "execution_count": 31,
      "outputs": []
    },
    {
      "cell_type": "code",
      "metadata": {
        "id": "tZyqJ5-M-8U3"
      },
      "source": [
        "히든 노드가 10*10의 배열이 되게 정렬"
      ],
      "execution_count": null,
      "outputs": []
    },
    {
      "cell_type": "code",
      "metadata": {
        "id": "1iyb8R5P-vnA"
      },
      "source": [
        "import numpy\r\n",
        "import scipy.special  # 과학기술 계산 라이브러리\r\n",
        "import matplotlib.pyplot\r\n",
        "%matplotlib inline\r\n",
        "\r\n",
        "\r\n",
        "class SomAlgorithm:\r\n",
        "\r\n",
        "  ##### 신경망 생성\r\n",
        "  def __init__(self, inputnodes, hiddennodes, outputnodes, learningrate):\r\n",
        "\r\n",
        "    # 계층의 노드 개수 결정\r\n",
        "    # 행은 종속변수의 수(X), 열은 독립변수의 수(Y)\r\n",
        "    self.inodes = inputnodes\r\n",
        "    self.hnodes1, self.hnodes2, self.hnodes3  = hiddennodes, hiddennodes, hiddennodes  # 한번에 여러 변수 선언\r\n",
        "\r\n",
        "    self.onodes = outputnodes\r\n",
        "\r\n",
        "    # 가중치\r\n",
        "    self.wih = numpy.random.normal(0.0, pow(self.hnodes, -0.5), (self.hnodes, self.inodes))  # pow() 제곱식으로 행이 많을수록 값이 작아지게 구성\r\n",
        "    self.who = numpy.random.normal(0.0, pow(self.onodes, -0.5), (self.onodes, self.hnodes))\r\n",
        "\r\n",
        "    # 학습률\r\n",
        "    self.lr = learningrate\r\n",
        "\r\n",
        "    # 활성화 함수로 시그모이드 함수를 사용\r\n",
        "    self.activation_function = lambda x: scipy.special.expit(x)  # lambda는 이름이 없는 함수 정의\r\n",
        "\r\n",
        "\r\n",
        "  ### 신경망 학습\r\n",
        "  def train(self, inputs_list, targets_list):\r\n",
        "    inputs = numpy.array(inputs_list, ndmin=2).T  # .T는 행열을 바꿈\r\n",
        "    targets = numpy.array(targets_list, ndmin=2).T\r\n",
        "\r\n",
        "    # 은닉계층 \r\n",
        "    hidden_inputs = numpy.dot(self.wih, inputs)\r\n",
        "    hidden_outputs = self.activation_function(hidden_inputs)\r\n",
        "\r\n",
        "    # 출력 계층\r\n",
        "    final_inputs = numpy.dot(self.who, hidden_outputs)\r\n",
        "    final_outputs = self.activation_function(final_inputs)\r\n",
        "\r\n",
        "    # 오차\r\n",
        "    output_errors = targets - final_outputs\r\n",
        "    # 가중치에 의해 나눈 오차들을 계산\r\n",
        "    hidden_errors = numpy.dot(self.who.T, output_errors)\r\n",
        "\r\n",
        "    # 가중치 업데이트\r\n",
        "    # 은닉, 출력\r\n",
        "    self.who += self.lr * numpy.dot((output_errors*final_outputs*(1.0-final_outputs)), numpy.transpose(hidden_outputs))\r\n",
        "    # 입력, 은닉\r\n",
        "    self.wih += self.lr * numpy.dot((hidden_errors*hidden_outputs*(1.0-hidden_outputs)), numpy.transpose(inputs))\r\n",
        "\r\n",
        "\r\n",
        "  ### 질의 \r\n",
        "  def query(self, inputs_list):\r\n",
        "    # 2차원의 행렬로 변환\r\n",
        "    inputs = numpy.array(inputs_list, ndmin=2).T\r\n",
        "\r\n",
        "    # 은닉계층 \r\n",
        "    hidden_inputs = numpy.dot(self.wih, inputs)\r\n",
        "    hidden_outputs = self.activation_function(hidden_inputs)\r\n",
        "\r\n",
        "    # 출력 계층\r\n",
        "    final_inputs = numpy.dot(self.who, hidden_outputs)\r\n",
        "    final_outputs = self.activation_function(final_inputs)\r\n",
        "\r\n",
        "    return final_outputs"
      ],
      "execution_count": null,
      "outputs": []
    },
    {
      "cell_type": "code",
      "metadata": {
        "id": "FCslaavu-v90"
      },
      "source": [
        ""
      ],
      "execution_count": null,
      "outputs": []
    },
    {
      "cell_type": "code",
      "metadata": {
        "id": "iscnBOfI-wAS"
      },
      "source": [
        ""
      ],
      "execution_count": null,
      "outputs": []
    },
    {
      "cell_type": "code",
      "metadata": {
        "id": "nYnGvPJY-wCt"
      },
      "source": [
        ""
      ],
      "execution_count": null,
      "outputs": []
    },
    {
      "cell_type": "code",
      "metadata": {
        "id": "LlFMHO2q-wFV"
      },
      "source": [
        ""
      ],
      "execution_count": null,
      "outputs": []
    },
    {
      "cell_type": "code",
      "metadata": {
        "id": "kWkTMGb--wHx"
      },
      "source": [
        ""
      ],
      "execution_count": null,
      "outputs": []
    },
    {
      "cell_type": "code",
      "metadata": {
        "id": "jIlmJYPe-wJ8"
      },
      "source": [
        ""
      ],
      "execution_count": null,
      "outputs": []
    },
    {
      "cell_type": "code",
      "metadata": {
        "id": "6Sj-H-XL-wM_"
      },
      "source": [
        ""
      ],
      "execution_count": null,
      "outputs": []
    },
    {
      "cell_type": "code",
      "metadata": {
        "id": "Nd-DrCbC-wPc"
      },
      "source": [
        ""
      ],
      "execution_count": null,
      "outputs": []
    }
  ]
}